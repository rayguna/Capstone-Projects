{
 "cells": [
  {
   "cell_type": "markdown",
   "metadata": {},
   "source": [
    "# Appendix C. Machine learning: multilabel classification\n",
    "\n",
    "The dataset consists of labelled IR spectra. Each spectrum is assigned to one or more labels, and the labels are not mutually exclusive. Therefore, we use multilabel classification techniques."
   ]
  },
  {
   "cell_type": "markdown",
   "metadata": {},
   "source": [
    "## Capstone Project 1: IR spectral analysis of organic compounds via a machine learning approach"
   ]
  },
  {
   "cell_type": "markdown",
   "metadata": {},
   "source": [
    "***\n",
    "**Table of contents**\n",
    "#### &nbsp;&nbsp; (I) Import and prepare dataset\n",
    "#### &nbsp;&nbsp; (II) Apply a dimensionality reduction technique (i.e., PCA)\n",
    "#### &nbsp;&nbsp; (III) Screen multiple models simultaneously\n",
    "#### &nbsp;&nbsp; (IV) Focus on one best method and improve model\n",
    "#### &nbsp;&nbsp; (V) Further improve accuracy with ensemble methods\n",
    "#### &nbsp;&nbsp; (VI) Summary and next steps"
   ]
  },
  {
   "cell_type": "markdown",
   "metadata": {},
   "source": [
    "***"
   ]
  },
  {
   "cell_type": "markdown",
   "metadata": {},
   "source": [
    "## (I) Import and prepare dataset"
   ]
  },
  {
   "cell_type": "markdown",
   "metadata": {},
   "source": [
    "### (a) Import data"
   ]
  },
  {
   "cell_type": "code",
   "execution_count": 1,
   "metadata": {},
   "outputs": [
    {
     "data": {
      "text/html": [
       "<div>\n",
       "<style scoped>\n",
       "    .dataframe tbody tr th:only-of-type {\n",
       "        vertical-align: middle;\n",
       "    }\n",
       "\n",
       "    .dataframe tbody tr th {\n",
       "        vertical-align: top;\n",
       "    }\n",
       "\n",
       "    .dataframe thead th {\n",
       "        text-align: right;\n",
       "    }\n",
       "</style>\n",
       "<table border=\"1\" class=\"dataframe\">\n",
       "  <thead>\n",
       "    <tr style=\"text-align: right;\">\n",
       "      <th></th>\n",
       "      <th>Unnamed: 0</th>\n",
       "      <th>600</th>\n",
       "      <th>604</th>\n",
       "      <th>608</th>\n",
       "      <th>612</th>\n",
       "      <th>616</th>\n",
       "      <th>620</th>\n",
       "      <th>624</th>\n",
       "      <th>628</th>\n",
       "      <th>632</th>\n",
       "      <th>...</th>\n",
       "      <th>3464</th>\n",
       "      <th>3468</th>\n",
       "      <th>3472</th>\n",
       "      <th>3476</th>\n",
       "      <th>3480</th>\n",
       "      <th>3484</th>\n",
       "      <th>3488</th>\n",
       "      <th>3492</th>\n",
       "      <th>3496</th>\n",
       "      <th>label</th>\n",
       "    </tr>\n",
       "  </thead>\n",
       "  <tbody>\n",
       "    <tr>\n",
       "      <th>0</th>\n",
       "      <td>1119-40-0</td>\n",
       "      <td>0.009480</td>\n",
       "      <td>0.011373</td>\n",
       "      <td>0.008950</td>\n",
       "      <td>0.010881</td>\n",
       "      <td>0.012741</td>\n",
       "      <td>0.012765</td>\n",
       "      <td>0.011669</td>\n",
       "      <td>0.010218</td>\n",
       "      <td>0.008583</td>\n",
       "      <td>...</td>\n",
       "      <td>0.007078</td>\n",
       "      <td>0.007871</td>\n",
       "      <td>0.009175</td>\n",
       "      <td>0.010160</td>\n",
       "      <td>0.010963</td>\n",
       "      <td>0.015177</td>\n",
       "      <td>0.013968</td>\n",
       "      <td>0.014654</td>\n",
       "      <td>0.014541</td>\n",
       "      <td>ester</td>\n",
       "    </tr>\n",
       "    <tr>\n",
       "      <th>1</th>\n",
       "      <td>120-33-2</td>\n",
       "      <td>0.001862</td>\n",
       "      <td>0.002358</td>\n",
       "      <td>0.000965</td>\n",
       "      <td>0.001367</td>\n",
       "      <td>0.001221</td>\n",
       "      <td>0.002217</td>\n",
       "      <td>0.001162</td>\n",
       "      <td>0.000631</td>\n",
       "      <td>0.001026</td>\n",
       "      <td>...</td>\n",
       "      <td>0.007558</td>\n",
       "      <td>0.006625</td>\n",
       "      <td>0.004902</td>\n",
       "      <td>0.004450</td>\n",
       "      <td>0.003911</td>\n",
       "      <td>0.003702</td>\n",
       "      <td>0.003551</td>\n",
       "      <td>0.002494</td>\n",
       "      <td>0.002388</td>\n",
       "      <td>ester</td>\n",
       "    </tr>\n",
       "    <tr>\n",
       "      <th>2</th>\n",
       "      <td>120-51-4</td>\n",
       "      <td>0.011749</td>\n",
       "      <td>0.009791</td>\n",
       "      <td>0.006795</td>\n",
       "      <td>0.006387</td>\n",
       "      <td>0.006919</td>\n",
       "      <td>0.005475</td>\n",
       "      <td>0.004003</td>\n",
       "      <td>0.002257</td>\n",
       "      <td>0.002252</td>\n",
       "      <td>...</td>\n",
       "      <td>0.005814</td>\n",
       "      <td>0.004950</td>\n",
       "      <td>0.004097</td>\n",
       "      <td>0.003773</td>\n",
       "      <td>0.003183</td>\n",
       "      <td>0.002548</td>\n",
       "      <td>0.002194</td>\n",
       "      <td>0.002459</td>\n",
       "      <td>0.002356</td>\n",
       "      <td>ester</td>\n",
       "    </tr>\n",
       "    <tr>\n",
       "      <th>3</th>\n",
       "      <td>120650-77-3</td>\n",
       "      <td>0.004431</td>\n",
       "      <td>0.005630</td>\n",
       "      <td>0.005578</td>\n",
       "      <td>0.005711</td>\n",
       "      <td>0.004729</td>\n",
       "      <td>0.003658</td>\n",
       "      <td>0.004980</td>\n",
       "      <td>0.003962</td>\n",
       "      <td>0.003673</td>\n",
       "      <td>...</td>\n",
       "      <td>0.004496</td>\n",
       "      <td>0.005218</td>\n",
       "      <td>0.003233</td>\n",
       "      <td>0.006065</td>\n",
       "      <td>0.004307</td>\n",
       "      <td>0.004863</td>\n",
       "      <td>0.005305</td>\n",
       "      <td>0.003419</td>\n",
       "      <td>0.005081</td>\n",
       "      <td>ester</td>\n",
       "    </tr>\n",
       "    <tr>\n",
       "      <th>4</th>\n",
       "      <td>1335-40-6</td>\n",
       "      <td>0.026083</td>\n",
       "      <td>0.025300</td>\n",
       "      <td>0.025201</td>\n",
       "      <td>0.024101</td>\n",
       "      <td>0.023793</td>\n",
       "      <td>0.022894</td>\n",
       "      <td>0.020080</td>\n",
       "      <td>0.016694</td>\n",
       "      <td>0.013240</td>\n",
       "      <td>...</td>\n",
       "      <td>0.005708</td>\n",
       "      <td>0.005478</td>\n",
       "      <td>0.005245</td>\n",
       "      <td>0.005083</td>\n",
       "      <td>0.005195</td>\n",
       "      <td>0.005259</td>\n",
       "      <td>0.005337</td>\n",
       "      <td>0.005369</td>\n",
       "      <td>0.005188</td>\n",
       "      <td>ester</td>\n",
       "    </tr>\n",
       "  </tbody>\n",
       "</table>\n",
       "<p>5 rows × 727 columns</p>\n",
       "</div>"
      ],
      "text/plain": [
       "    Unnamed: 0       600       604       608       612       616       620  \\\n",
       "0    1119-40-0  0.009480  0.011373  0.008950  0.010881  0.012741  0.012765   \n",
       "1     120-33-2  0.001862  0.002358  0.000965  0.001367  0.001221  0.002217   \n",
       "2     120-51-4  0.011749  0.009791  0.006795  0.006387  0.006919  0.005475   \n",
       "3  120650-77-3  0.004431  0.005630  0.005578  0.005711  0.004729  0.003658   \n",
       "4    1335-40-6  0.026083  0.025300  0.025201  0.024101  0.023793  0.022894   \n",
       "\n",
       "        624       628       632  ...        3464      3468      3472  \\\n",
       "0  0.011669  0.010218  0.008583  ...    0.007078  0.007871  0.009175   \n",
       "1  0.001162  0.000631  0.001026  ...    0.007558  0.006625  0.004902   \n",
       "2  0.004003  0.002257  0.002252  ...    0.005814  0.004950  0.004097   \n",
       "3  0.004980  0.003962  0.003673  ...    0.004496  0.005218  0.003233   \n",
       "4  0.020080  0.016694  0.013240  ...    0.005708  0.005478  0.005245   \n",
       "\n",
       "       3476      3480      3484      3488      3492      3496  label  \n",
       "0  0.010160  0.010963  0.015177  0.013968  0.014654  0.014541  ester  \n",
       "1  0.004450  0.003911  0.003702  0.003551  0.002494  0.002388  ester  \n",
       "2  0.003773  0.003183  0.002548  0.002194  0.002459  0.002356  ester  \n",
       "3  0.006065  0.004307  0.004863  0.005305  0.003419  0.005081  ester  \n",
       "4  0.005083  0.005195  0.005259  0.005337  0.005369  0.005188  ester  \n",
       "\n",
       "[5 rows x 727 columns]"
      ]
     },
     "execution_count": 1,
     "metadata": {},
     "output_type": "execute_result"
    }
   ],
   "source": [
    "#import data\n",
    "import pandas as pd\n",
    "\n",
    "df=pd.read_csv('data/NIST_selected_organic_spectra.csv')\n",
    "\n",
    "df.head()"
   ]
  },
  {
   "cell_type": "code",
   "execution_count": 2,
   "metadata": {},
   "outputs": [
    {
     "data": {
      "text/plain": [
       "(405, 727)"
      ]
     },
     "execution_count": 2,
     "metadata": {},
     "output_type": "execute_result"
    }
   ],
   "source": [
    "df.shape #check\n"
   ]
  },
  {
   "cell_type": "markdown",
   "metadata": {},
   "source": [
    "### (b) Apply multilabel  \n",
    "\n",
    "ref.: http://scikit-learn.org/stable/modules/generated/sklearn.preprocessing.MultiLabelBinarizer.html\n",
    "\n",
    "- The labels are:"
   ]
  },
  {
   "cell_type": "code",
   "execution_count": 3,
   "metadata": {},
   "outputs": [
    {
     "data": {
      "text/plain": [
       "array(['ester', 'ketone', 'alcohol', 'alkane', 'alkene', 'amine',\n",
       "       'aldehyde', 'acid', 'halide', 'benzene'], dtype=object)"
      ]
     },
     "execution_count": 3,
     "metadata": {},
     "output_type": "execute_result"
    }
   ],
   "source": [
    "#get the label names:\n",
    "df.label.unique()"
   ]
  },
  {
   "cell_type": "markdown",
   "metadata": {},
   "source": [
    "#ref.: Brian C. Smith, \"Infrared Spectral Interpretation: A Systematic Approach\", CRC Press 1998.  \n",
    "#we have ten labels:  \n",
    "#Note: Aldehydes have the characteristic C-H stretch, denoted here as C-H_ald to differentiate from ketones.  \n",
    "\n",
    "label_names=  \n",
    "['C-H', 'C=C', \\  #1,2    \n",
    "'C=O', 'C-O', \\  #3,4  \n",
    "'O-H', 'C-N', \\  #5,6  \n",
    "'N-H', 'C-X', \\  #7,8  \n",
    "'Ar', 'C-H_ald'] #9,10    \n",
    "\n",
    "Cheat-sheet:  \n",
    "    ester=(1,3,4,,,,,,)  \n",
    "    ketone=(1,3,,,,,,,)  \n",
    "    alcohol=(1,4,,,,,,,)  \n",
    "    alkane=(1,2,,,,,,,)  \n",
    "    alkene=(1,2,,,,,,,)  \n",
    "    amine=(1,6,7,,,,,,)  \n",
    "    aldehyde=(1,3,10,,,,,,)  \n",
    "    alcid=(1,3,4,5,,,,,)  \n",
    "    halide=(1,8,,,,,,,)  \n",
    "    benzene=(1,2,9,,,,,,)  \n"
   ]
  },
  {
   "cell_type": "code",
   "execution_count": 4,
   "metadata": {
    "collapsed": true
   },
   "outputs": [],
   "source": [
    "#1. define labels for each functional group as a list.\n",
    "ester_label=[1,3,4]  \n",
    "ketone_label=[1,3]  \n",
    "alcohol_label=[1,4]  \n",
    "alkane_label=[1,2]  \n",
    "alkene_label=[1,2]  \n",
    "amine_label=[1,6,7]  \n",
    "aldehyde_label=[1,3,10]  \n",
    "acid_label=[1,3,4,5]  \n",
    "halide_label=[1,8]  \n",
    "benzene_label=[1,2,9]  \n"
   ]
  },
  {
   "cell_type": "code",
   "execution_count": 5,
   "metadata": {},
   "outputs": [
    {
     "data": {
      "text/plain": [
       "array([[1, 0, 1, ..., 0, 0, 0],\n",
       "       [1, 0, 1, ..., 0, 0, 0],\n",
       "       [1, 0, 1, ..., 0, 0, 0],\n",
       "       ..., \n",
       "       [1, 1, 0, ..., 0, 1, 0],\n",
       "       [1, 1, 0, ..., 0, 1, 0],\n",
       "       [1, 1, 0, ..., 0, 1, 0]])"
      ]
     },
     "execution_count": 5,
     "metadata": {},
     "output_type": "execute_result"
    }
   ],
   "source": [
    "#create labels\n",
    "from sklearn.preprocessing import MultiLabelBinarizer\n",
    "\n",
    "mlb = MultiLabelBinarizer() #create object\n",
    "\n",
    "#generate as many labels as there are entries in the respective groups and the combine it into a single array with row number matching with the Dataset\n",
    "#https://stackoverflow.com/questions/19753279/repeat-a-tuple-inside-a-tuple\n",
    "y_label=len(df[df.label=='ester'])*[ester_label,] + \\\n",
    "        len(df[df.label=='ketone'])*[ketone_label,] + \\\n",
    "        len(df[df.label=='alcohol'])*[alcohol_label,] + \\\n",
    "        len(df[df.label=='alkane'])*[alkane_label,] + \\\n",
    "        len(df[df.label=='alkene'])*[alkene_label,] + \\\n",
    "        len(df[df.label=='amine'])*[amine_label,] + \\\n",
    "        len(df[df.label=='aldehyde'])*[aldehyde_label,] + \\\n",
    "        len(df[df.label=='acid'])*[acid_label,] + \\\n",
    "        len(df[df.label=='halide'])*[halide_label,] + \\\n",
    "        len(df[df.label=='benzene'])*[benzene_label,] \n",
    "\n",
    "y_label=mlb.fit_transform(y_label) #convert tuples list to multilabelbinarizer\n",
    "#len(y_label) #check\n",
    "y_label #check\n"
   ]
  },
  {
   "cell_type": "markdown",
   "metadata": {},
   "source": [
    "## (II) Screen various techniques"
   ]
  },
  {
   "cell_type": "code",
   "execution_count": 6,
   "metadata": {
    "collapsed": true
   },
   "outputs": [],
   "source": [
    "#1. split datasets into train/test datasets for PCA\n",
    "from sklearn.model_selection import train_test_split\n",
    "\n",
    "X_train, X_test, y_train, y_test = train_test_split( \n",
    "    df.iloc[:,1:726], y_label, test_size=0.2, random_state=13)\n",
    "\n",
    "#2. normalize datasets\n",
    "from sklearn.preprocessing import StandardScaler\n",
    "\n",
    "scaler=StandardScaler().fit(X_train)\n",
    "standardized_X=scaler.transform(X_train)\n",
    "standardized_X_test=scaler.transform(X_test)"
   ]
  },
  {
   "cell_type": "code",
   "execution_count": 7,
   "metadata": {},
   "outputs": [
    {
     "name": "stdout",
     "output_type": "stream",
     "text": [
      "DTR: 0.558712 (0.065795)\n",
      "ETC: 0.518655 (0.075330)\n",
      "ETC_E: 0.524716 (0.068475)\n",
      "KNC: 0.601610 (0.060275)\n",
      "RFC: 0.528220 (0.082509)\n"
     ]
    },
    {
     "data": {
      "image/png": "[encoded data removed]",
      "text/plain": [
       "<matplotlib.figure.Figure at 0x91ff198>"
      ]
     },
     "metadata": {},
     "output_type": "display_data"
    }
   ],
   "source": [
    "# Compare Algorithms\n",
    "from pandas import read_csv\n",
    "from matplotlib import pyplot\n",
    "from sklearn.model_selection import KFold\n",
    "from sklearn.model_selection import cross_val_score\n",
    "\n",
    "from sklearn.tree import DecisionTreeClassifier\n",
    "from sklearn.tree import ExtraTreeClassifier\n",
    "from sklearn.ensemble import ExtraTreesClassifier\n",
    "from sklearn.neighbors import KNeighborsClassifier\n",
    "from sklearn.ensemble import RandomForestClassifier\n",
    "\n",
    "\n",
    "# prepare models\n",
    "models = []\n",
    "models.append(('DTR', DecisionTreeClassifier())) \n",
    "models.append(('ETC', ExtraTreeClassifier()))\n",
    "models.append(('ETC_E', ExtraTreesClassifier()))\n",
    "models.append(('KNC', KNeighborsClassifier()))\n",
    "models.append(('RFC', RandomForestClassifier()))\n",
    "\n",
    "\n",
    "# evaluate each model in turn\n",
    "results = []\n",
    "names = []\n",
    "scoring = 'accuracy'\n",
    "\n",
    "\n",
    "for name, model in models: #iterate through each of the different models\n",
    "    #Use k-fold validation to determine model accuracy. k-fold validation is one of many ways, but it is the gold standard way.\n",
    "    try:\n",
    "        kfold = KFold(n_splits=10, random_state=7) #initiate k-fold validation. Here, we use 10-folds.\n",
    "        cv_results = cross_val_score(model, standardized_X, y_train, cv=kfold, scoring=scoring) #apply model in turns.\n",
    "        results.append(cv_results)\n",
    "        names.append(name)\n",
    "    except:\n",
    "        print('Error in:', name, 'and', model)\n",
    "        \n",
    "    msg = \"%s: %f (%f)\" % (name, cv_results.mean(), cv_results.std())\n",
    "    print(msg)\n",
    "    \n",
    "# boxplot algorithm comparison\n",
    "fig = pyplot.figure()\n",
    "fig.suptitle('Algorithm Comparison')\n",
    "ax = fig.add_subplot(111)\n",
    "pyplot.boxplot(results)\n",
    "ax.set_xticklabels(names)\n",
    "pyplot.show()"
   ]
  },
  {
   "cell_type": "markdown",
   "metadata": {},
   "source": [
    "-  It is seen that ExtraTreesClassifier and KNeighborsClassifier yield the highest score of about 0.60 and a narrow standard deviation.\n",
    "- Next, I will utilize dimensionality reduction technique and simultaneously perform a hyperparameter tuning on these two models."
   ]
  },
  {
   "cell_type": "markdown",
   "metadata": {},
   "source": [
    "## (III) Apply a dimensionality reduction technique (i.e., PCA)"
   ]
  },
  {
   "cell_type": "code",
   "execution_count": 8,
   "metadata": {
    "scrolled": true
   },
   "outputs": [
    {
     "data": {
      "image/png": "[encoded data removed]",
      "text/plain": [
       "<matplotlib.figure.Figure at 0x91e5748>"
      ]
     },
     "metadata": {},
     "output_type": "display_data"
    }
   ],
   "source": [
    "#Perform pca\n",
    "from sklearn.decomposition import PCA\n",
    "\n",
    "no_components=100\n",
    "\n",
    "pca=PCA(n_components=no_components) #generate model\n",
    "\n",
    "X_pca=pca.fit_transform(df.iloc[:,1:726])\n",
    "\n",
    "import matplotlib.pyplot as plt\n",
    "import numpy as np\n",
    "\n",
    "plt.plot(np.arange(no_components),100*pca.explained_variance_ratio_.cumsum())\n",
    "\n",
    "plt.xlabel('n_components')\n",
    "plt.ylabel('% Variation')\n",
    "plt.show()"
   ]
  },
  {
   "cell_type": "markdown",
   "metadata": {},
   "source": [
    "- The above plot shows that n_component=100 is sufficient to capture close to 100% of all variations. Below, we will carry out hyperparameter tuning to determine the optimum parameters."
   ]
  },
  {
   "cell_type": "markdown",
   "metadata": {},
   "source": [
    "## (IV) Optimize the parameters for ExtraTreesClassifier and KNeighborsClassifier, respectively"
   ]
  },
  {
   "cell_type": "markdown",
   "metadata": {},
   "source": [
    "(a) pre-process data"
   ]
  },
  {
   "cell_type": "code",
   "execution_count": 9,
   "metadata": {
    "collapsed": true
   },
   "outputs": [],
   "source": [
    "#1. split datasets into train/test datasets for PCA\n",
    "from sklearn.model_selection import train_test_split\n",
    "\n",
    "X_train_pca, X_test_pca, y_train_pca, y_test_pca = train_test_split( \n",
    "    X_pca, y_label, test_size=0.2, random_state=13)\n",
    "\n",
    "#2. normalize datasets\n",
    "\n",
    "scaler=StandardScaler().fit(X_train_pca)\n",
    "standardized_X_pca=scaler.transform(X_train_pca)\n",
    "standardized_X_test_pca=scaler.transform(X_test_pca)"
   ]
  },
  {
   "cell_type": "markdown",
   "metadata": {},
   "source": [
    "(b) ExtraTreesClassifier\n",
    "- Tune n_component and max_depth simultaneously"
   ]
  },
  {
   "cell_type": "code",
   "execution_count": 10,
   "metadata": {},
   "outputs": [
    {
     "name": "stdout",
     "output_type": "stream",
     "text": [
      "Finding the best parameters, please wait...\n",
      "\n",
      "\n",
      "Best score: ('components = ', 20, ', estimators = ', 200, ', Score = ', 0.62962962962962965)\n"
     ]
    }
   ],
   "source": [
    "#Let's tune the knn n_neighbors parameter\n",
    "components = [5, 10, 15, 20, 25, 30, 50, 100] #optimize using up to 100 components\n",
    "estimators = [10, 50, 100, 150, 200, 250] #and using up to 7 neighbors\n",
    "\n",
    "ets_score=0 #temporarily stores previous score to be used to compare current with previous score\n",
    "ets_best=\" \" #a list for storing the best parameter for the knn model\n",
    "\n",
    "print('Finding the best parameters, please wait...')\n",
    "\n",
    "for component in components:\n",
    "    for n in estimators:\n",
    "        etc = ExtraTreesClassifier(n_estimators=n, random_state=0)\n",
    "        etc.fit(standardized_X_pca[:,:component], y_train)\n",
    "        score = etc.score(standardized_X_test_pca[:,:component], y_test)\n",
    "        \n",
    "        if score>ets_score:\n",
    "            ets_score=score\n",
    "            ets_best='components = ', component, ', estimators = ', n,', Score = ', score\n",
    "        \n",
    "        #print('components = ', component, ', estimators = ', n,', Score = ', score)  \n",
    "\n",
    "            \n",
    "print('\\n')\n",
    "print('Best score:', ets_best)"
   ]
  },
  {
   "cell_type": "markdown",
   "metadata": {},
   "source": [
    "- The highest score is 63% (components =  20 , estimators =  200). "
   ]
  },
  {
   "cell_type": "markdown",
   "metadata": {},
   "source": [
    "(c) KNeighborsClassifier\n",
    "- Tune n_component and n_neighbor simultaneously"
   ]
  },
  {
   "cell_type": "code",
   "execution_count": 11,
   "metadata": {},
   "outputs": [
    {
     "name": "stdout",
     "output_type": "stream",
     "text": [
      "Finding the best parameters, please wait...\n",
      "\n",
      "\n",
      "Best score: ('components = ', 15, ', estimators = ', 3, ', Score = ', 0.69135802469135799)\n"
     ]
    }
   ],
   "source": [
    "#Let's tune the knn n_neighbors parameter\n",
    "neighbors = [1, 2, 3, 4, 5, 6, 7] #and using up to 7 neighbors\n",
    "\n",
    "knn_score=0 #temporarily stores previous score to be used to compare current with previous score\n",
    "knn_best=\" \" #a list for storing the best parameter for the knn model\n",
    "\n",
    "print('Finding the best parameters, please wait...')\n",
    "\n",
    "for component in components:\n",
    "    for n in neighbors:\n",
    "        knn = KNeighborsClassifier(n_neighbors=n)\n",
    "        knn.fit(standardized_X_pca[:,:component], y_train)\n",
    "        score = knn.score(standardized_X_test_pca[:,:component], y_test)\n",
    "        \n",
    "        if score>knn_score:\n",
    "            knn_score=score\n",
    "            knn_best='components = ', component, ', estimators = ', n,', Score = ', score\n",
    "        \n",
    "        #print('components = ', component, ', neighbors = ', n,', Score = ', score)  \n",
    "        \n",
    "print('\\n')\n",
    "print('Best score:', knn_best)\n",
    "        "
   ]
  },
  {
   "cell_type": "markdown",
   "metadata": {},
   "source": [
    "- The highest score is 69% (components =  15 , neighbors = 3). "
   ]
  },
  {
   "cell_type": "markdown",
   "metadata": {},
   "source": [
    "### (V) Further improve accuracy with ensemble methods\n",
    "\n",
    "ref.: http://scikit-learn.org/stable/modules/classes.html#module-sklearn.ensemble\n"
   ]
  },
  {
   "cell_type": "markdown",
   "metadata": {},
   "source": [
    "(a) Ensemble: RandomForestClassifier"
   ]
  },
  {
   "cell_type": "code",
   "execution_count": 12,
   "metadata": {},
   "outputs": [
    {
     "name": "stdout",
     "output_type": "stream",
     "text": [
      "Finding the best parameters, please wait...\n",
      "\n",
      "\n",
      "best_params: ('components: ', 25, 'est:', 3) and score: 0.654320987654\n"
     ]
    }
   ],
   "source": [
    "\n",
    "from sklearn.ensemble import RandomForestClassifier\n",
    "\n",
    "rfc_score=0\n",
    "rfc_params=\" \"\n",
    "\n",
    "print('Finding the best parameters, please wait...')\n",
    "\n",
    "for c in range(5,100,5):\n",
    "    for est in range(1,30,1):\n",
    "\n",
    "        clf = RandomForestClassifier(n_estimators=est)\n",
    "        clf = clf.fit(standardized_X_pca[:,:c], y_train)\n",
    "        score=clf.score(standardized_X_test_pca[:,:c], y_test)\n",
    "        #print('score:', score)\n",
    "        \n",
    "        if score>rfc_score:\n",
    "            rfc_score=score\n",
    "            rfc_params='components: ', c, 'est:', est\n",
    "print('\\n')\n",
    "print('best_params:', rfc_params, 'and score:', rfc_score)\n",
    "    "
   ]
  },
  {
   "cell_type": "markdown",
   "metadata": {},
   "source": [
    "- The best score is 65% (components=10 and n_estimators=29)."
   ]
  },
  {
   "cell_type": "markdown",
   "metadata": {},
   "source": [
    "(b) Ensemble: ExtratreesClassifier "
   ]
  },
  {
   "cell_type": "code",
   "execution_count": 13,
   "metadata": {},
   "outputs": [
    {
     "name": "stdout",
     "output_type": "stream",
     "text": [
      "Finding the best parameters, please wait...\n",
      "\n",
      "\n",
      "best_params: ('components: ', 15, 'n_estimators:', 15) and score: 0.654320987654\n"
     ]
    }
   ],
   "source": [
    "from sklearn.ensemble import ExtraTreesClassifier\n",
    "\n",
    "ets_score=0\n",
    "ets_params=\" \"\n",
    "\n",
    "print('Finding the best parameters, please wait...')\n",
    "\n",
    "for c in range(5,100,5):\n",
    "    for est in range(1,30,1):\n",
    "\n",
    "        clf = ExtraTreesClassifier(n_estimators=est)\n",
    "        clf = clf.fit(standardized_X_pca[:,:c], y_train)\n",
    "        score=clf.score(standardized_X_test_pca[:,:c], y_test)\n",
    "        #print('score:', score)\n",
    "        \n",
    "        if score>ets_score:\n",
    "            ets_score=score\n",
    "            ets_params='components: ', c, 'n_estimators:', est\n",
    "print('\\n')\n",
    "print('best_params:', ets_params, 'and score:', ets_score)"
   ]
  },
  {
   "cell_type": "markdown",
   "metadata": {},
   "source": [
    "- The best score is 65% (components=15, n_estimators=9)."
   ]
  },
  {
   "cell_type": "markdown",
   "metadata": {
    "collapsed": true
   },
   "source": [
    "### (VI) Summary and next steps"
   ]
  },
  {
   "cell_type": "markdown",
   "metadata": {},
   "source": [
    "- Five machine learning models that are suitable for multilabel classification problems are assessed (i.e., DecisionTreeClassifier, ExtraTreeClassifier, ExtraTreesClassifier,  KNeighborsClassifier, and RandomForestClassifier).\n",
    "- Initial screening reveals that ExtraTreesClassifier and KNeighborsClassifier perform better than the other three algorithms. \n",
    "- Next, I utilize dimensionality reduction techniques (i.e., PCA) along with the two machine learning algorithms and optimize the parameters in the respective models. \n",
    "- Using KNeighborsClassifier, the best score that is achieved is 69.0% (Components = 20 , neighbors = 5). This is a very modest score. Ensemble methods are attempted (i.e., RandomForestClassifier and ExtraTreesClassifier), but the scores did not exceed 69.0%.  \n",
    "- To further improve the model accuracy, I will consider a neural network model.   \n",
    "- First, I will attempt a basic neural network algorithm to achieve an accuracy above 0.90. \n",
    "- If it is not achievable, I will consider employing a convolutional neural network algorithm."
   ]
  }
 ],
 "metadata": {
  "kernelspec": {
   "display_name": "Python 3",
   "language": "python",
   "name": "python3"
  },
  "language_info": {
   "codemirror_mode": {
    "name": "ipython",
    "version": 3
   },
   "file_extension": ".py",
   "mimetype": "text/x-python",
   "name": "python",
   "nbconvert_exporter": "python",
   "pygments_lexer": "ipython3",
   "version": "3.5.4"
  }
 },
 "nbformat": 4,
 "nbformat_minor": 1
}
