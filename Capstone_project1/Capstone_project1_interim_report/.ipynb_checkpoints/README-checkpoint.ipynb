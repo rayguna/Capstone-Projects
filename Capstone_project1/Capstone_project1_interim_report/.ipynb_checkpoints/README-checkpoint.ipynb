{
 "cells": [
  {
   "cell_type": "markdown",
   "metadata": {},
   "source": [
    "# Capstone Project 1: IR spectral analysis of organic compounds via a machine learning approach\n"
   ]
  },
  {
   "cell_type": "markdown",
   "metadata": {},
   "source": [
    "***"
   ]
  },
  {
   "cell_type": "markdown",
   "metadata": {},
   "source": [
    "\n",
    "## Table of contents    \n",
    "#### 1. Introduction   \n",
    "#### 2. Data overview   \n",
    "#### 3.  Machine learning approach  \n",
    "#### 4.  Preliminary conclusions and next steps   \n",
    "\n",
    "\n",
    "### Appendix \n",
    "#### Appendix A. Technical fundamentals\n",
    "#### Appendix B. Data wrangling\n",
    "#### Appendix C. Inferential statistics\n",
    "#### Appendix D. Machine learning\n",
    "#### Appendix E. List of dependent files\n"
   ]
  },
  {
   "cell_type": "markdown",
   "metadata": {},
   "source": [
    "***"
   ]
  },
  {
   "cell_type": "markdown",
   "metadata": {},
   "source": [
    "### 1.   Introduction\n",
    "\n",
    "<p align=\"justify\">\n",
    "Problem statement   \n",
    "With a rapid advancement in the fabrication of lightweight, compact, high-speed, and low-cost electronic/optoelectronic devices, the approach to using infrared spectroscopy for chemical identification is becoming widespread. For instance, Si-Ware Systems utilizes MEMS technology to fabricate an FTIR system in a chip size module (http://www.neospectra.com/products-overview/), in contrast to the traditional bench-top and bulky FTIR system. While it is relatively straightforward to correlate the infrared spectra of a defined class of compounds or a pure material, the spectra obtained from an FTIR measurement are generally ambiguous; it requires trained personnel to interpret the data, the process is tedious process, and is prone to errors. Thus, there is a need to establish a routine algorithm that yield a reliable and consistent result. The goal of this project is to improve the accuracy in a computer based chemical characterization of materials using IR spectroscopy.\n",
    "</p>\n",
    "\n",
    "<p align=\"justify\">\n",
    "How does it benefit the client  \n",
    "The client is an FTIR spectroscopy sensor manufacturer that desires a universal method for unambiguously identifying the chemical compounds of an unknown material from the measured FTIR spectra. The conventional approach used to identify FTIR spectra is to mathematically compare the unknown spectra against all possible spectra within the database (i.e., a spectral matching approach). The reference compounds with similar spectral features to the unknown material are ranked according to their similarity index. If it is done on a defined class of material, this process is very likely to yield an accurate result; however, for an entirely unknown material it will require a trained professional to then rationalize the result. The human interference is not necessarily consistent and error-proof. The proposed approach is to utilize machine learning algorithms (e.g., neural network and cluster analysis) to take into account the chemical information in combination with the spectral matching approach. A successful model is expected to yield an error proof routine to chemical compound identification that yields consistent results. \n",
    "</p>\n",
    "\n",
    "<p align=\"justify\">\n",
    "Data source     \n",
    "The list of required data sets are as follows:  \n",
    "1. The main reference/training data set of over 40,000 spectra of known chemical compounds will be automatically downloaded from NIST website (http://webbook.nist.gov/chemistry/vib-ser/) with the aid of a python script.  \n",
    "\n",
    "2. A group frequency table will be downloaded or web-scraped from a certain website to aid in chemical group assignment of occuring peaks in the FTIR spectra. There are a number of websites that carry this information, but the appropriate website will be selected for its reliable source of information and completeness.  \n",
    "\n",
    "3. A list of representative FTIR spectra that have been properly assigned will be downloaded from NIST website (http://cccbdb.nist.gov); it will be used to verify the accuracy of the peak assignment that rely on the group frequency table.    \n",
    "</p>\n",
    "\n",
    "<p align=\"justify\">\n",
    "Proposed approach     \n",
    "The tasks for this project are as follows:  \n",
    "1. Download the appropriate data sets from the sources listed above.  \n",
    "\n",
    "2. Perform cluster analysis of the reference data set to reduce the data size to a reasonable number (e.g., by chemical elements, molecular weight).    \n",
    "\n",
    "3. Standardize reference spectra (uniformize units, perform spectra treatments as needed, e.g., interpolation, smoothing).  \n",
    "4. Elucidate the spectral features by correlating with information provided in the group frequency table and utilizing EDA. Verify the accuracy of the peak assignment by using representative data from fully assigned spectra.   \n",
    "\n",
    "5. Develop models for materials identification based on a combination of spectral matching algorithms and machine learning tools (e.g., neural network, cluster analysis).  \n",
    "\n",
    "6. Select relevant test data sets that range form simple to hard and test the model. Improve the model as needed.  \n",
    "\n",
    "7. Build a user friendly GUI (if time allows).  \n",
    "\n",
    "8. Deploy application and present results.  \n",
    "</p>\n"
   ]
  },
  {
   "cell_type": "markdown",
   "metadata": {},
   "source": [
    "### 2. The dataset\n",
    "\n",
    "2.1. Basic principle\n",
    "\n",
    "The mid-infrared absorption spectrum of organic materials can be correlated with the functional groups that make up its molecular structure. The knowledge of the material's functional groups can be used to derive its molecular structure. To name a few, this knowledge is useful for materials identification in forensics science, reverse engineering of products, or for the purpose of correlating the material's properties to its chemical structure.   \n",
    "\n",
    "Please refer to **Appendix A** for the definition of the various technical terminologies and for more detailed technical fundamentals. \n",
    "\n",
    "2.2. A general overview of approach\n",
    "\n",
    "**Figure 2.1** below summarizes the entire process involved in this work. The steps are as follows:  \n",
    "- The first step is taking the NIST chemical list that contains over 70,000 chemicals. Data wrangling is performed on the data to yield a shorter chemicals list. The shorter list contains no null entries and include only a list of organic chemicals. \n",
    "- Next, inferential statistics is performed on the data and representative list of chemicals that represent certain organic functional groups are selected. \n",
    "- The corresponding infrared spectra of this chemicals list are downloaded from NIST website. This data serves as our dataset. \n",
    "- Subsequently, machine learning and deep learning models are considered. The best model is selected.\n",
    "- The final model is expected to be able to extract the functional groups that are present in an unknown IR spectrum with a high accuracy. \n",
    "\n"
   ]
  },
  {
   "cell_type": "markdown",
   "metadata": {
    "collapsed": true
   },
   "source": [
    "![](data/Fig 2.1. Flowchart.tif)  \n",
    "**Figure 2.1.** A flowchart summarizing the processess carried out in this work."
   ]
  },
  {
   "cell_type": "markdown",
   "metadata": {},
   "source": [
    "2.3. Data wrangling\n",
    "\n",
    "Below shows a portion of the starting NIST chemical list. It is seen that the list consists of just three columns: chemical name, chemical formula, and CAS number. CAS stands for chemical abstract service, which refers to a unique identification number. Note that any of these fields may contain NaN. "
   ]
  },
  {
   "cell_type": "code",
   "execution_count": 5,
   "metadata": {},
   "outputs": [
    {
     "data": {
      "text/html": [
       "<div>\n",
       "<table border=\"1\" class=\"dataframe\">\n",
       "  <thead>\n",
       "    <tr style=\"text-align: right;\">\n",
       "      <th></th>\n",
       "      <th>Name</th>\n",
       "      <th>Formula</th>\n",
       "      <th>CAS</th>\n",
       "    </tr>\n",
       "  </thead>\n",
       "  <tbody>\n",
       "    <tr>\n",
       "      <th>0</th>\n",
       "      <td>Column1</td>\n",
       "      <td>Column2</td>\n",
       "      <td>Column3</td>\n",
       "    </tr>\n",
       "    <tr>\n",
       "      <th>1</th>\n",
       "      <td>Electron</td>\n",
       "      <td>e-</td>\n",
       "      <td>NaN</td>\n",
       "    </tr>\n",
       "    <tr>\n",
       "      <th>2</th>\n",
       "      <td>Iron(2) oxide anion</td>\n",
       "      <td>FeO-</td>\n",
       "      <td>NaN</td>\n",
       "    </tr>\n",
       "    <tr>\n",
       "      <th>3</th>\n",
       "      <td>AsF3..Cl anion</td>\n",
       "      <td>AsClF3-</td>\n",
       "      <td>NaN</td>\n",
       "    </tr>\n",
       "    <tr>\n",
       "      <th>4</th>\n",
       "      <td>AgH2-</td>\n",
       "      <td>H2Ag-</td>\n",
       "      <td>NaN</td>\n",
       "    </tr>\n",
       "  </tbody>\n",
       "</table>\n",
       "</div>"
      ],
      "text/plain": [
       "                  Name  Formula      CAS\n",
       "0              Column1  Column2  Column3\n",
       "1             Electron       e-      NaN\n",
       "2  Iron(2) oxide anion     FeO-      NaN\n",
       "3       AsF3..Cl anion  AsClF3-      NaN\n",
       "4                AgH2-    H2Ag-      NaN"
      ]
     },
     "execution_count": 5,
     "metadata": {},
     "output_type": "execute_result"
    }
   ],
   "source": [
    "#import pandas\n",
    "import pandas as pd\n",
    "\n",
    "#load NIST_chemicals_list.csv and inspect\n",
    "pd.read_csv('data/NIST_chemicals_list.csv', names=['Name','Formula', 'CAS']).head() "
   ]
  },
  {
   "cell_type": "markdown",
   "metadata": {
    "collapsed": true
   },
   "source": [
    "\n",
    "The following summarizes the data wrangling steps, some findings, and the outcome:\n",
    "\n",
    "- All rows that contain null entries in any of the three columns are deleted.\n",
    "- Only the list of compounds that are non ions, non radicals, and non-polymeric are retained.\n",
    "- Only the list of organic compounds containing the following elements: C, H, O, N, S, P, F, Cl, Br, and I are retained.\n",
    "- Each entry in the final DataFrame has a unique CAS number, but there are duplicate names and isomers and allotropes.\n",
    "- Shortened the NIST chemical list from 72,618 to 36,416.\n",
    "- The shortened DataFrame has been exported into a csv file called 'NIST_chemicals_list_organic.csv'.\n",
    "\n",
    "See **Appendix B** for details."
   ]
  },
  {
   "cell_type": "markdown",
   "metadata": {},
   "source": [
    "The data wrangling step yields a shortened chemicals list with two additional columns (shown below):\n",
    "    - Elements: a list of the unique elements in the compound. This list can be used to check whether the compound is  \n",
    "    organic or not (i.e., organic compounds contain just a handful of elements in the periodic table).  \n",
    "    - Mw: the total molecular mass of the compound. This is proportional to the size of the molecule.  "
   ]
  },
  {
   "cell_type": "code",
   "execution_count": 8,
   "metadata": {},
   "outputs": [
    {
     "data": {
      "text/html": [
       "<div>\n",
       "<table border=\"1\" class=\"dataframe\">\n",
       "  <thead>\n",
       "    <tr style=\"text-align: right;\">\n",
       "      <th></th>\n",
       "      <th>CAS</th>\n",
       "      <th>Name</th>\n",
       "      <th>Formula</th>\n",
       "      <th>Elements</th>\n",
       "      <th>Mw</th>\n",
       "    </tr>\n",
       "  </thead>\n",
       "  <tbody>\n",
       "    <tr>\n",
       "      <th>0</th>\n",
       "      <td>100-00-5</td>\n",
       "      <td>Benzene, 1-chloro-4-nitro-</td>\n",
       "      <td>C6H4ClNO2</td>\n",
       "      <td>['C', 'H', 'Cl', 'N', 'O']</td>\n",
       "      <td>156.993056</td>\n",
       "    </tr>\n",
       "    <tr>\n",
       "      <th>1</th>\n",
       "      <td>100-01-6</td>\n",
       "      <td>p-Nitroaniline</td>\n",
       "      <td>C6H6N2O2</td>\n",
       "      <td>['C', 'H', 'N', 'O']</td>\n",
       "      <td>138.042927</td>\n",
       "    </tr>\n",
       "    <tr>\n",
       "      <th>2</th>\n",
       "      <td>100-02-7</td>\n",
       "      <td>Phenol, 4-nitro-</td>\n",
       "      <td>C6H5NO3</td>\n",
       "      <td>['C', 'H', 'N', 'O']</td>\n",
       "      <td>139.026943</td>\n",
       "    </tr>\n",
       "    <tr>\n",
       "      <th>3</th>\n",
       "      <td>100043-29-6</td>\n",
       "      <td>2H-Tetrazole</td>\n",
       "      <td>CH2N4</td>\n",
       "      <td>['C', 'H', 'N']</td>\n",
       "      <td>70.027946</td>\n",
       "    </tr>\n",
       "    <tr>\n",
       "      <th>4</th>\n",
       "      <td>100046-00-2</td>\n",
       "      <td>2,2,4,4',6,6'-Hexamethylazobenzene N,N'-dioxide</td>\n",
       "      <td>C18H22N2O2</td>\n",
       "      <td>['C', 'H', 'N', 'O']</td>\n",
       "      <td>298.168128</td>\n",
       "    </tr>\n",
       "  </tbody>\n",
       "</table>\n",
       "</div>"
      ],
      "text/plain": [
       "           CAS                                             Name     Formula  \\\n",
       "0     100-00-5                       Benzene, 1-chloro-4-nitro-   C6H4ClNO2   \n",
       "1     100-01-6                                   p-Nitroaniline    C6H6N2O2   \n",
       "2     100-02-7                                 Phenol, 4-nitro-     C6H5NO3   \n",
       "3  100043-29-6                                     2H-Tetrazole       CH2N4   \n",
       "4  100046-00-2  2,2,4,4',6,6'-Hexamethylazobenzene N,N'-dioxide  C18H22N2O2   \n",
       "\n",
       "                     Elements          Mw  \n",
       "0  ['C', 'H', 'Cl', 'N', 'O']  156.993056  \n",
       "1        ['C', 'H', 'N', 'O']  138.042927  \n",
       "2        ['C', 'H', 'N', 'O']  139.026943  \n",
       "3             ['C', 'H', 'N']   70.027946  \n",
       "4        ['C', 'H', 'N', 'O']  298.168128  "
      ]
     },
     "execution_count": 8,
     "metadata": {},
     "output_type": "execute_result"
    }
   ],
   "source": [
    "#load NIST chemicals_list_organic.csv and inspect\n",
    "pd.read_csv('data/NIST_chemicals_list_organic.csv').head() "
   ]
  },
  {
   "cell_type": "markdown",
   "metadata": {
    "collapsed": true
   },
   "source": [
    "2.4. Inferential statistics\n",
    "\n",
    "Taking the shortened chemicals list with the two additional columns, I perform inferential statistics. The following summarizes the efforts, some findings, and the outcome:\n",
    "\n",
    "- The calculated Mws are accurate within 10% with respect to those posted on NIST website.\n",
    "- The distribution of Mws are generally not normal with the median being in the 100-200 range.\n",
    "- The shortened NIST chemicals database mostly consist of the following functional groups:'ester', 'ketone', 'alcohol', 'alkane', 'alkene', 'amine', 'aldehyde', 'acid', 'halide', 'thiol', and 'benzene'.  \n",
    "- IR spectra (in jcamp format) are downloaded to represent each of these group.\n",
    "- The Pearson correlation coefficient of the representative spectra from each group reveal that the alkane spectra have a high correlation, whereas the halides have a low correlation.\n",
    "- Generally, there is very little correlation between spectra, even within the same group. For spectra that have a high correlation, the features are expected to be mostly identical. \n",
    "- Probably, we cannot rely simply on the overall shape of the spectrum to distinguish functional groups.   \n",
    "- For the purpose of identifying unknown compounds from its IR spectra, we therefore need to undertake features selection. \n",
    "- One specific approach is to correlate each functional group with specific regions in the spectrum.\n",
    "- There is also a need to utilize more sophisticated algorithms (i.e., machine and deep learning algorithms) to more effectively correlate the chemicals' functional groups to its distinct features.  \n",
    "\n",
    "See **Appendix C** for detailed analysis."
   ]
  },
  {
   "cell_type": "markdown",
   "metadata": {
    "collapsed": true
   },
   "source": [
    "\n",
    "In most cases, little linear correlation is seen between spectra within the same group. This justifies the use of the more advanced machine learning tools that are available in Scikit-learn. This step yields the needed dataset. Each row in the dataset represents a single infrared spectrum. Each spectrum is labelled as one of ten functional groups (see below)."
   ]
  },
  {
   "cell_type": "code",
   "execution_count": 10,
   "metadata": {},
   "outputs": [
    {
     "data": {
      "text/html": [
       "<div>\n",
       "<table border=\"1\" class=\"dataframe\">\n",
       "  <thead>\n",
       "    <tr style=\"text-align: right;\">\n",
       "      <th></th>\n",
       "      <th>Unnamed: 0</th>\n",
       "      <th>600</th>\n",
       "      <th>604</th>\n",
       "      <th>608</th>\n",
       "      <th>612</th>\n",
       "      <th>616</th>\n",
       "      <th>620</th>\n",
       "      <th>624</th>\n",
       "      <th>628</th>\n",
       "      <th>632</th>\n",
       "      <th>...</th>\n",
       "      <th>3464</th>\n",
       "      <th>3468</th>\n",
       "      <th>3472</th>\n",
       "      <th>3476</th>\n",
       "      <th>3480</th>\n",
       "      <th>3484</th>\n",
       "      <th>3488</th>\n",
       "      <th>3492</th>\n",
       "      <th>3496</th>\n",
       "      <th>label</th>\n",
       "    </tr>\n",
       "  </thead>\n",
       "  <tbody>\n",
       "    <tr>\n",
       "      <th>0</th>\n",
       "      <td>1119-40-0</td>\n",
       "      <td>0.009480</td>\n",
       "      <td>0.011373</td>\n",
       "      <td>0.008950</td>\n",
       "      <td>0.010881</td>\n",
       "      <td>0.012741</td>\n",
       "      <td>0.012765</td>\n",
       "      <td>0.011669</td>\n",
       "      <td>0.010218</td>\n",
       "      <td>0.008583</td>\n",
       "      <td>...</td>\n",
       "      <td>0.007078</td>\n",
       "      <td>0.007871</td>\n",
       "      <td>0.009175</td>\n",
       "      <td>0.010160</td>\n",
       "      <td>0.010963</td>\n",
       "      <td>0.015177</td>\n",
       "      <td>0.013968</td>\n",
       "      <td>0.014654</td>\n",
       "      <td>0.014541</td>\n",
       "      <td>ester</td>\n",
       "    </tr>\n",
       "    <tr>\n",
       "      <th>1</th>\n",
       "      <td>120-33-2</td>\n",
       "      <td>0.001862</td>\n",
       "      <td>0.002358</td>\n",
       "      <td>0.000965</td>\n",
       "      <td>0.001367</td>\n",
       "      <td>0.001221</td>\n",
       "      <td>0.002217</td>\n",
       "      <td>0.001162</td>\n",
       "      <td>0.000631</td>\n",
       "      <td>0.001026</td>\n",
       "      <td>...</td>\n",
       "      <td>0.007558</td>\n",
       "      <td>0.006625</td>\n",
       "      <td>0.004902</td>\n",
       "      <td>0.004450</td>\n",
       "      <td>0.003911</td>\n",
       "      <td>0.003702</td>\n",
       "      <td>0.003551</td>\n",
       "      <td>0.002494</td>\n",
       "      <td>0.002388</td>\n",
       "      <td>ester</td>\n",
       "    </tr>\n",
       "    <tr>\n",
       "      <th>2</th>\n",
       "      <td>120-51-4</td>\n",
       "      <td>0.011749</td>\n",
       "      <td>0.009791</td>\n",
       "      <td>0.006795</td>\n",
       "      <td>0.006387</td>\n",
       "      <td>0.006919</td>\n",
       "      <td>0.005475</td>\n",
       "      <td>0.004003</td>\n",
       "      <td>0.002257</td>\n",
       "      <td>0.002252</td>\n",
       "      <td>...</td>\n",
       "      <td>0.005814</td>\n",
       "      <td>0.004950</td>\n",
       "      <td>0.004097</td>\n",
       "      <td>0.003773</td>\n",
       "      <td>0.003183</td>\n",
       "      <td>0.002548</td>\n",
       "      <td>0.002194</td>\n",
       "      <td>0.002459</td>\n",
       "      <td>0.002356</td>\n",
       "      <td>ester</td>\n",
       "    </tr>\n",
       "    <tr>\n",
       "      <th>3</th>\n",
       "      <td>120650-77-3</td>\n",
       "      <td>0.004431</td>\n",
       "      <td>0.005630</td>\n",
       "      <td>0.005578</td>\n",
       "      <td>0.005711</td>\n",
       "      <td>0.004729</td>\n",
       "      <td>0.003658</td>\n",
       "      <td>0.004980</td>\n",
       "      <td>0.003962</td>\n",
       "      <td>0.003673</td>\n",
       "      <td>...</td>\n",
       "      <td>0.004496</td>\n",
       "      <td>0.005218</td>\n",
       "      <td>0.003233</td>\n",
       "      <td>0.006065</td>\n",
       "      <td>0.004307</td>\n",
       "      <td>0.004863</td>\n",
       "      <td>0.005305</td>\n",
       "      <td>0.003419</td>\n",
       "      <td>0.005081</td>\n",
       "      <td>ester</td>\n",
       "    </tr>\n",
       "    <tr>\n",
       "      <th>4</th>\n",
       "      <td>1335-40-6</td>\n",
       "      <td>0.026083</td>\n",
       "      <td>0.025300</td>\n",
       "      <td>0.025201</td>\n",
       "      <td>0.024101</td>\n",
       "      <td>0.023793</td>\n",
       "      <td>0.022894</td>\n",
       "      <td>0.020080</td>\n",
       "      <td>0.016694</td>\n",
       "      <td>0.013240</td>\n",
       "      <td>...</td>\n",
       "      <td>0.005708</td>\n",
       "      <td>0.005478</td>\n",
       "      <td>0.005245</td>\n",
       "      <td>0.005083</td>\n",
       "      <td>0.005195</td>\n",
       "      <td>0.005259</td>\n",
       "      <td>0.005337</td>\n",
       "      <td>0.005369</td>\n",
       "      <td>0.005188</td>\n",
       "      <td>ester</td>\n",
       "    </tr>\n",
       "  </tbody>\n",
       "</table>\n",
       "<p>5 rows × 727 columns</p>\n",
       "</div>"
      ],
      "text/plain": [
       "    Unnamed: 0       600       604       608       612       616       620  \\\n",
       "0    1119-40-0  0.009480  0.011373  0.008950  0.010881  0.012741  0.012765   \n",
       "1     120-33-2  0.001862  0.002358  0.000965  0.001367  0.001221  0.002217   \n",
       "2     120-51-4  0.011749  0.009791  0.006795  0.006387  0.006919  0.005475   \n",
       "3  120650-77-3  0.004431  0.005630  0.005578  0.005711  0.004729  0.003658   \n",
       "4    1335-40-6  0.026083  0.025300  0.025201  0.024101  0.023793  0.022894   \n",
       "\n",
       "        624       628       632  ...        3464      3468      3472  \\\n",
       "0  0.011669  0.010218  0.008583  ...    0.007078  0.007871  0.009175   \n",
       "1  0.001162  0.000631  0.001026  ...    0.007558  0.006625  0.004902   \n",
       "2  0.004003  0.002257  0.002252  ...    0.005814  0.004950  0.004097   \n",
       "3  0.004980  0.003962  0.003673  ...    0.004496  0.005218  0.003233   \n",
       "4  0.020080  0.016694  0.013240  ...    0.005708  0.005478  0.005245   \n",
       "\n",
       "       3476      3480      3484      3488      3492      3496  label  \n",
       "0  0.010160  0.010963  0.015177  0.013968  0.014654  0.014541  ester  \n",
       "1  0.004450  0.003911  0.003702  0.003551  0.002494  0.002388  ester  \n",
       "2  0.003773  0.003183  0.002548  0.002194  0.002459  0.002356  ester  \n",
       "3  0.006065  0.004307  0.004863  0.005305  0.003419  0.005081  ester  \n",
       "4  0.005083  0.005195  0.005259  0.005337  0.005369  0.005188  ester  \n",
       "\n",
       "[5 rows x 727 columns]"
      ]
     },
     "execution_count": 10,
     "metadata": {},
     "output_type": "execute_result"
    }
   ],
   "source": [
    "pd.read_csv('data/NIST_selected_organic_spectra.csv').head()"
   ]
  },
  {
   "cell_type": "markdown",
   "metadata": {},
   "source": [
    "### 3.  Machine learning approach"
   ]
  },
  {
   "cell_type": "markdown",
   "metadata": {},
   "source": [
    "To utilize the dataset in Scikitlearn, first I convert the functional group labels into MultiLabelBinarizer (see below). The following summarizes the efforts, some findings, and the outcome:\n",
    "\n",
    "- Five machine learning models that are suitable for multilabel classification problems (http://scikit-learn.org/stable/modules/multiclass.html) are assessed (i.e., DecisionTreeClassifier, DTC; ExtraTreeClassifier,ETC; ExtraTreesClassifier , ETC_E;  KNeighborsClassifier ,KNC; and RandomForestClassifier. RFC). Below compares the accuracy comparison between the five models."
   ]
  },
  {
   "cell_type": "markdown",
   "metadata": {},
   "source": [
    "![](data/Fig 3.1. compare_models.png)\n",
    "**Figure 3.1.** Algorithm comparison."
   ]
  },
  {
   "cell_type": "markdown",
   "metadata": {},
   "source": [
    "- Initial screening reveals that ExtraTreesClassifier and KNeighborsClassifier perform better than the other three algorithms. \n",
    "- Next, I utilize dimensionality reduction techniques (i.e., PCA) along with these two machine learning algorithms and optimize the parameters in the respective models. \n",
    "- Using KNeighborsClassifier, the best score that is achieved is 69.0% (Components = 20 , neighbors = 5). This is a very modest score. Using, the best score is lower than KNeighborsClassifier, ie., 63% (components = 20 , estimators = 200).    \n",
    "- Ensemble methods are attempted (i.e., RandomForestClassifier and ExtraTreesClassifier), but the scores did not exceed 69.0%.  \n",
    "- To determine the uncertainty of the score for KNeighborsClassifier, I carry out k-fold cross-validation, which yields: . \n",
    "- To further improve the model accuracy, I will consider a neural network model.   \n",
    "- First, I will attempt a basic neural network algorithm to achieve an accuracy above 0.90. \n",
    "- If it is not achievable, I will consider employing a convolutional neural network algorithm.\n",
    "\n",
    "See **Appendix D** for detailed analysis."
   ]
  },
  {
   "cell_type": "markdown",
   "metadata": {},
   "source": [
    "To determine the uncertainly of the models' score, I carry out k-fold validation for the best model using the optimized parameters, which yields: 69.896 ± 5.145%."
   ]
  },
  {
   "cell_type": "markdown",
   "metadata": {},
   "source": [
    "### 4.  Preliminary conclusions and next steps"
   ]
  },
  {
   "cell_type": "markdown",
   "metadata": {},
   "source": [
    "- KNeighborClassifier is found to be the best machine learning model with accuracy of about 70%. A 70%  accuracy, however, is not acceptable. \n",
    "- Next, neural network models will be considered to achieve a better accuracy than 70%.\n",
    "    "
   ]
  },
  {
   "cell_type": "markdown",
   "metadata": {},
   "source": [
    "***"
   ]
  },
  {
   "cell_type": "markdown",
   "metadata": {},
   "source": [
    "<a id='appendix'></a>\n",
    "## Appendix\n",
    "\n",
    "### Appendix A. Technical fundamentals\n",
    "Refer to the accompanying file:  Appendix A. Technical_fundamentals.ipnyb\n",
    "\n",
    "### Appendix B. Data wrangling\n",
    "Refer to the accompanying file:  Appendix B. Data_wrangling.ipnyb\n",
    "\n",
    "### Appendix C. Inferential statistics\n",
    "Refer to the accompanying file:  Appendix C. Inferential_statistics.ipnyb\n",
    "\n",
    "### Appendix D. Machine learning\n",
    "Refer to the accompanying file:  Appendix D. Machine_learning.ipnyb\n",
    "\n",
    "### Appendix E. List of dependent files\n",
    "\n",
    "E1. csv files:\n",
    "    - data/NIST_chemicals_list.csv\n",
    "    - data/NIST_chemicals_list_organic.csv\n",
    "    - data/NIST_selected_organic_spectra.csv\n",
    "\n",
    "E2. py files:\n",
    "    - common.py\n",
    "    - my_jcamp.py\n",
    "    \n",
    "E3. jcamp files \n",
    "    - files are downloaded from NIST website (https://webbook.nist.gov/chemistry/)\n",
    "    - downloaded files are stored in the folder called reference. Due tothe large number of files, these are not included \n",
    "    in this Github project.\n"
   ]
  }
 ],
 "metadata": {
  "kernelspec": {
   "display_name": "Python 3",
   "language": "python",
   "name": "python3"
  },
  "language_info": {
   "codemirror_mode": {
    "name": "ipython",
    "version": 3
   },
   "file_extension": ".py",
   "mimetype": "text/x-python",
   "name": "python",
   "nbconvert_exporter": "python",
   "pygments_lexer": "ipython3",
   "version": "3.5.4"
  }
 },
 "nbformat": 4,
 "nbformat_minor": 1
}
