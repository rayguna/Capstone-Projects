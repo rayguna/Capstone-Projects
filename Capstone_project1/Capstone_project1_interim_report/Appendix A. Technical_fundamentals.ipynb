{
 "cells": [
  {
   "cell_type": "markdown",
   "metadata": {},
   "source": [
    "## Appendix A. Technical fundamentals \n"
   ]
  },
  {
   "cell_type": "markdown",
   "metadata": {},
   "source": [
    "## Capstone Project 1: IR spectral analysis of organic compounds via a machine learning approach"
   ]
  },
  {
   "cell_type": "markdown",
   "metadata": {},
   "source": [
    "***\n",
    "**Table of contents**   \n",
    "#### &nbsp;&nbsp; I.   Matter, elements, atoms, molecules, and functional group  \n",
    "#### &nbsp;&nbsp; II.   Infrared spectroscopy and infrared spectra  \n",
    "#### &nbsp;&nbsp; III.  Infrared group frequency   \n"
   ]
  },
  {
   "cell_type": "markdown",
   "metadata": {},
   "source": [
    "***"
   ]
  },
  {
   "cell_type": "markdown",
   "metadata": {},
   "source": [
    "#### I.   Matter, elements, atoms, molecules, and functional group  "
   ]
  },
  {
   "cell_type": "markdown",
   "metadata": {},
   "source": [
    "**Matter:** tangible objects   \n",
    "Everything around us that we can touch (e.g., the cars that we drive, the chairs that we sit on, the laptop that I am using to prepare this document) are called **matter**. In other words, matter are objects that have mass and occupy space by having volume [1]. \n",
    "\n",
    "**Elements:** the building blocks of matter   \n",
    "Imagine taking an arbitrary object (e.g., a gold bar) and halving it over and over again (perhaps with a laser knife). There is a point where the object can no longer be halved. At this point, you have cut the object into the smallest piece called **element** (i.e., the elementary building block of matter). Up to date there are 118 distinct elements (**Figure AI.1**). \n",
    "\n",
    "**Atoms**   \n",
    "It turns out that the 118 elements are not distinct from each other. These elements are not actually indivisible. Each of the 118 elements can further be broken down into more fundamental building blocks called electrons, protons, and neutrons. Each of the 118 elements merely differ in the number of electrons, protons, and neutrons (**Figure AI.2**). Electrons, protons, and neutrons form **atoms**. The 118 elements (or atoms) are often depicted in a tabular form, arranged according to its electronic configuration the form of a periodic table. The elements exhibit similar group properties depending on how electrons, protons, and neutrons are arranged. The name of each element is abbreviated as a one- or two-letter symbol.   "
   ]
  },
  {
   "cell_type": "markdown",
   "metadata": {
    "collapsed": true
   },
   "source": [
    "![periodic_table](data/Fig AI.1. Periodic_Table_wiki.png)\n",
    "\n",
    "**Figure AI.1.** The periodic table of elements."
   ]
  },
  {
   "cell_type": "markdown",
   "metadata": {},
   "source": [
    "**Molecules:** a group of bonded atoms  \n",
    "The tangible objects around us may consist of one or more atoms. A group of atoms bind together to form  a molecule. For instance, table sugar consists of carbon (C), hydrogen (H), and oxygen (O) atoms (**Figure AI.2**a). The 3D structure may be simplified into a 2D projection (**Figure AI.2b**). In both cases, the lines between atoms denote a chemical bonding. In the 2D projection, the chain of carbon atoms that make-up the backbone of the molecule is represented as zig-zag lines.\n",
    "\n",
    "**Organic Molecules**  \n",
    "Organic molecules refer to a group of bonded atoms where the atoms are: carbon (C), oxygen (O), hydrogen (H), nitrogen (N), phosphorus (P),  sulfur (S), and halogens (F, Cl, Br, and I).  "
   ]
  },
  {
   "cell_type": "markdown",
   "metadata": {},
   "source": [
    " &nbsp;&nbsp;&nbsp;&nbsp;&nbsp;&nbsp;&nbsp;&nbsp;&nbsp;&nbsp;&nbsp;&nbsp;&nbsp;&nbsp;&nbsp;&nbsp;&nbsp;&nbsp;&nbsp;&nbsp;&nbsp;&nbsp;&nbsp;&nbsp;&nbsp;&nbsp;&nbsp;&nbsp;&nbsp;&nbsp;&nbsp;&nbsp;&nbsp;&nbsp;&nbsp;&nbsp;&nbsp;&nbsp;&nbsp;&nbsp;&nbsp;&nbsp;&nbsp;&nbsp;&nbsp;&nbsp;&nbsp;&nbsp;&nbsp;&nbsp;&nbsp;&nbsp;&nbsp;&nbsp;&nbsp;&nbsp;&nbsp;&nbsp;&nbsp;&nbsp;&nbsp;&nbsp;&nbsp;&nbsp;&nbsp;&nbsp;&nbsp;&nbsp;&nbsp;&nbsp;&nbsp;&nbsp;&nbsp;&nbsp;&nbsp;&nbsp;&nbsp;&nbsp;&nbsp;&nbsp;&nbsp;&nbsp;&nbsp;(a)&nbsp;&nbsp;&nbsp;&nbsp;&nbsp;&nbsp;&nbsp;&nbsp;&nbsp;&nbsp;&nbsp;&nbsp;&nbsp;&nbsp;&nbsp;&nbsp;&nbsp;&nbsp;&nbsp;\n",
    " &nbsp;&nbsp;&nbsp;&nbsp;&nbsp;&nbsp;&nbsp;&nbsp;&nbsp;&nbsp;&nbsp;&nbsp;&nbsp;&nbsp;&nbsp;&nbsp;&nbsp;&nbsp;&nbsp;&nbsp;&nbsp;&nbsp;&nbsp;&nbsp;&nbsp;&nbsp;&nbsp;&nbsp;&nbsp;&nbsp;&nbsp;&nbsp;&nbsp;&nbsp;&nbsp;&nbsp;&nbsp;&nbsp;&nbsp;&nbsp;&nbsp;&nbsp;&nbsp;&nbsp;&nbsp;&nbsp;&nbsp;&nbsp;&nbsp;&nbsp;&nbsp;&nbsp;&nbsp;&nbsp;&nbsp;&nbsp;&nbsp;&nbsp;&nbsp;&nbsp;&nbsp;&nbsp;&nbsp;&nbsp;&nbsp;&nbsp;&nbsp;&nbsp;&nbsp;&nbsp;&nbsp;&nbsp;&nbsp;&nbsp;&nbsp;&nbsp;&nbsp;&nbsp;&nbsp;&nbsp;&nbsp;&nbsp;&nbsp;(b)\n",
    "![](data/Fig AI2. Table_sugar_3d_2d.png) \n",
    "\n",
    "**Figure AI.2**. A molecular structure of sugar: (a) in 3D [2] and (b) in 2D [3]. In (a) black is carbon atom, white is hydrogen atom, and red is oxygen atom."
   ]
  },
  {
   "cell_type": "markdown",
   "metadata": {},
   "source": [
    "**Organic functional groups**  \n",
    "Certain group of atoms exist as a fragment within an **organic molecule** and are responsible for certain chemical reactions are referred to as functional groups. In the above example of sugar molecule, the **organic functional** groups are OH and CH. **Table AI.1** below summarizes some common organic functional groups that are discussed in this work [4]."
   ]
  },
  {
   "cell_type": "markdown",
   "metadata": {},
   "source": [
    "**Table AI.1. ** A list of common organic functional groups, along with their chemical formula. R refers to any alkanes with a formula CnH2n+1 with n being a non-zero integer.  \n",
    "\n",
    "| No. | 1 | 2 | 3 | 4 | 5 | 6 | 7 | 8 | 9 | 10 | 11 | 12 | 13 | 14 | 15 |\n",
    "|---------|--------|--------|---------|---------|--------|-------------|----------|--------------|-------|--------|-------|-----------|---------|---------|----------|\n",
    "| Name | ester | ketone | alcohol | alkane | alkene | amine | aldehyde | organic acid | ether | halide | thiol | thiophene | aniline | benzene | pyridine |\n",
    "| Formula | RCOOR' | RCOR' | ROH | CnH2n+2 | CnH2n | RNH2/RNHR'  | RCHO | RCOOH | ROR' | R-X | RSH | C4H4S | C6H5NH2 | C6H6 | C5H5N |"
   ]
  },
  {
   "cell_type": "markdown",
   "metadata": {},
   "source": [
    "**References**  \n",
    "1. \"Matter\", retrieved on March 11th, 2018 from: https://en.wikipedia.org/wiki/Matter\n",
    "2. Picture is generated using Avogadro software. Avogadro: an open-source molecular builder and visualization tool. Version 1.2.0. http://avogadro.cc/. Marcus D Hanwell, Donald E Curtis, David C Lonie, Tim Vandermeersch, Eva Zurek and Geoffrey R Hutchison; “Avogadro: An advanced semantic chemical editor, visualization, and analysis platform” Journal of Cheminformatics 2012, 4:17. \n",
    "3. Chemical structure is downloaded from: http://www.chemspider.com\n",
    "4. Table is generated using an online table generator: https://www.tablesgenerator.com/markdown_tables"
   ]
  },
  {
   "cell_type": "markdown",
   "metadata": {},
   "source": [
    "#### II.   Infrared spectroscopy and infrared spectra  "
   ]
  },
  {
   "cell_type": "markdown",
   "metadata": {},
   "source": [
    "**Infrared light**  \n",
    "Human eyes see seven colors and their combinations. The different colors of light are described as a continuous quantity called waves. The wavelength of visible light ranges from 390 to 700 nm (**Figure AII.1.**) [1]. Infrared (IR) light lies beyond the visible range. The wavelength of IR light ranges from 700 nm to 1 mm [2]. According to ISO 20473, IR light is divided into three groups: near-infrared spectrum, 780 nm to 3 $\\mu$m, (NIR); mid-infrared spectrum, 3-50 $\\mu$m (MIR), and far-infrared spectrum, 50 $\\mu$m-1 mm (FIR). A **Spectrum** is a range of wavelength.\n",
    "\n",
    "**Mid-Infrared absorption**  \n",
    "Organic materials absorb in the mid-infrared range (2.5 $\\mu$m-25 $\\mu$m or 4000 cm-1 to 400 cm-1). Shining MIR light and measuring the absorbed light yields a typical graph shown in **Figure AII.1.** The peaks in the graph represents the absorbed light and indicate the presence of certain organic functional groups. Alternatively, the spectrum can be depicted with the y-axis as transmittance. Also, note that the wavenumber is depicted is descending order, from 4000 to 400 cm-1, which corresponds to 2.5 $\\mu$m to 25 $\\mu$m.  "
   ]
  },
  {
   "cell_type": "markdown",
   "metadata": {},
   "source": [
    "\n",
    "![](data/Fig AII.1. Sucrose_IR_abs.png) \n",
    "\n",
    "<p style=\"text-align: center;\"> **Figure AII.1.** MIR spectrum of sucrose (a table sugar) [3]. </p> "
   ]
  },
  {
   "cell_type": "markdown",
   "metadata": {
    "collapsed": true
   },
   "source": [
    "**References**\n",
    "\n",
    "1. \"Visible spectrum\", retrieved on March 11th, 2018 from:https://en.wikipedia.org/wiki/Visible_spectrum \n",
    "2. \"\"Infrared, retrieved on March 11th, 2018 from https://en.wikipedia.org/wiki/Infrared\n",
    "3. Picture is taken from: http://webbook.nist.gov/cgi/cbook.cgi?Spec=C57501&Index=0&Type=IR&Large=on"
   ]
  },
  {
   "cell_type": "markdown",
   "metadata": {},
   "source": [
    "#### III.  Infrared group frequency   "
   ]
  },
  {
   "cell_type": "markdown",
   "metadata": {
    "collapsed": true
   },
   "source": [
    "Organic functional groups, some of which are depicted in **Table AI.1**, absorb in the mid-IR. With the aid of group frequency chart or group frequency table, we can determine what groups are present in the material. Additional measurements or additional knowledge of the material can lead to the complete chemical structure of the material. "
   ]
  },
  {
   "cell_type": "markdown",
   "metadata": {},
   "source": [
    "![](http://www.rsc.org/education/teachers/resources/spectra/home/irbands.gif) \n",
    "**Figure AIII.1.** Infrared group frequency chart [1].\n"
   ]
  },
  {
   "cell_type": "markdown",
   "metadata": {},
   "source": [
    "**References**\n",
    "\n",
    "1. Image is taken from: http://www.rsc.org/education/teachers/resources/spectra/home/irbands.gif"
   ]
  }
 ],
 "metadata": {
  "kernelspec": {
   "display_name": "Python 3",
   "language": "python",
   "name": "python3"
  },
  "language_info": {
   "codemirror_mode": {
    "name": "ipython",
    "version": 3
   },
   "file_extension": ".py",
   "mimetype": "text/x-python",
   "name": "python",
   "nbconvert_exporter": "python",
   "pygments_lexer": "ipython3",
   "version": "3.5.4"
  }
 },
 "nbformat": 4,
 "nbformat_minor": 1
}
