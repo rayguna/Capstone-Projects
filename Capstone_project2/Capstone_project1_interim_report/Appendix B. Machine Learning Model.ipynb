{
 "cells": [
  {
   "cell_type": "markdown",
   "metadata": {},
   "source": [
    "### Apendix B. Machine Learning Model"
   ]
  },
  {
   "cell_type": "markdown",
   "metadata": {},
   "source": [
    "A combination of histogram of oriented gradients (HOG) and support vector machine (SVM) is used to recognize objects. HOG is used to extract features from an image, and SVM is used to correlate the image features to the image labels. The dataset used here is the Data/combined.csv, which is generated in **Appendix A**.\n"
   ]
  },
  {
   "cell_type": "markdown",
   "metadata": {},
   "source": [
    "**Table of Contents**\n",
    "\n",
    "1. Apply Histogram of Oriented Gradients (HOG)\n",
    "2. Apply Support Vector Machine (SVM)"
   ]
  },
  {
   "cell_type": "markdown",
   "metadata": {},
   "source": [
    "***"
   ]
  },
  {
   "cell_type": "markdown",
   "metadata": {},
   "source": [
    "#### 1. Apply Histogram of Oriented Gradients (HOG)"
   ]
  },
  {
   "cell_type": "code",
   "execution_count": 1,
   "metadata": {
    "collapsed": true
   },
   "outputs": [],
   "source": [
    "# Code is adapted from ref. 3\n",
    "\n",
    "#Inspect images\n",
    "import numpy as np\n",
    "import random\n",
    "import glob\n",
    "\n",
    "import cv2\n",
    "import matplotlib.pyplot as plt\n",
    "\n",
    "%matplotlib inline\n",
    "\n",
    "\n",
    "#inspect array images in combined.csv\n",
    "import pandas as pd\n",
    "import cv2\n",
    "import matplotlib.pyplot as plt\n",
    "\n",
    "#load and check image\n",
    "df=pd.read_csv(\"Data/combined.csv\")\n",
    "\n",
    "X=df.iloc[:,:3818]\n",
    "#change X_DataFrame to a matrix\n",
    "X=X.as_matrix()\n",
    "X.shape #check\n",
    "\n",
    "Y=df.iloc[:,3820]\n",
    "\n",
    "#split into train and test sets\n",
    "from sklearn.model_selection import train_test_split\n",
    "\n",
    "X_train, X_test, y_train, y_test = train_test_split(X, Y, test_size=0.35, random_state=42)"
   ]
  },
  {
   "cell_type": "code",
   "execution_count": 2,
   "metadata": {},
   "outputs": [
    {
     "data": {
      "image/png": "[encoded data removed]",
      "text/plain": [
       "<Figure size 432x288 with 1 Axes>"
      ]
     },
     "metadata": {},
     "output_type": "display_data"
    }
   ],
   "source": [
    "#open up any one of the training images to make sure that it can be retrieved \n",
    "plt.imshow(X_train[0,:].reshape(46,83), cmap='gray')\n",
    "plt.axis('off')\n",
    "plt.show()"
   ]
  },
  {
   "cell_type": "code",
   "execution_count": 3,
   "metadata": {
    "collapsed": true
   },
   "outputs": [],
   "source": [
    "from skimage import feature\n",
    "\n",
    "data=[] #an empty array for storing hog transformed X_train data\n",
    "\n",
    "#iterate through rows of X_train and extract features using hog\n",
    "for image in X_train:\n",
    "    #print(image.shape)\n",
    "    img=image.reshape(46,83)\n",
    "    hist = feature.hog(img, orientations = 9,\n",
    "        pixels_per_cell = (8,8),\n",
    "        cells_per_block = (3,3),\n",
    "        transform_sqrt = False,block_norm='L2-Hys')\n",
    "    data.append(hist)\n"
   ]
  },
  {
   "cell_type": "markdown",
   "metadata": {},
   "source": [
    "#### 2. Apply and Save Support Vector Machine (SVM)"
   ]
  },
  {
   "cell_type": "code",
   "execution_count": 4,
   "metadata": {},
   "outputs": [
    {
     "data": {
      "text/plain": [
       "LinearSVC(C=1.0, class_weight=None, dual=True, fit_intercept=True,\n",
       "     intercept_scaling=1, loss='squared_hinge', max_iter=1000,\n",
       "     multi_class='ovr', penalty='l2', random_state=42, tol=0.0001,\n",
       "     verbose=0)"
      ]
     },
     "execution_count": 4,
     "metadata": {},
     "output_type": "execute_result"
    }
   ],
   "source": [
    "from sklearn.externals import joblib\n",
    "from sklearn.svm import LinearSVC\n",
    "\n",
    "#fit hog trnsformed features to labels\n",
    "model=LinearSVC(random_state=42)\n",
    "model.fit(data,y_train)"
   ]
  },
  {
   "cell_type": "code",
   "execution_count": 5,
   "metadata": {},
   "outputs": [
    {
     "name": "stdout",
     "output_type": "stream",
     "text": [
      "The accuracy of the model is 95.76%:\n"
     ]
    }
   ],
   "source": [
    "#evaluate model accuracy\n",
    "#first, transform X_test to hog features\n",
    "\n",
    "test_data=[] #an empty array for storing test_data\n",
    "\n",
    "#iterate through rows of X_test and extract features using hog\n",
    "for image in X_test:\n",
    "    #print(image.shape)\n",
    "    img=image.reshape(46,83)\n",
    "    hist = feature.hog(img, orientations = 9,\n",
    "        pixels_per_cell = (8,8),\n",
    "        cells_per_block = (3,3),\n",
    "        transform_sqrt = False,block_norm='L2-Hys')\n",
    "    test_data.append(hist)\n",
    "\n",
    "print('The accuracy of the model is %.2f%%:' %(model.score(test_data,y_test)*100))"
   ]
  },
  {
   "cell_type": "code",
   "execution_count": 6,
   "metadata": {},
   "outputs": [
    {
     "data": {
      "text/plain": [
       "['Models/svm.cpickle']"
      ]
     },
     "execution_count": 6,
     "metadata": {},
     "output_type": "execute_result"
    }
   ],
   "source": [
    "#save model to a file\n",
    "joblib.dump(model,'Models/svm.cpickle')"
   ]
  },
  {
   "cell_type": "markdown",
   "metadata": {},
   "source": [
    "#### Test model"
   ]
  },
  {
   "cell_type": "code",
   "execution_count": 7,
   "metadata": {
    "collapsed": true
   },
   "outputs": [],
   "source": [
    "import matplotlib.pyplot as plt\n",
    "import cv2\n",
    "from skimage import feature\n",
    "\n",
    "from sklearn.externals import joblib\n",
    "from sklearn.svm import LinearSVC\n",
    "\n",
    "#load model\n",
    "load_model=joblib.load('Models/svm.cpickle') \n"
   ]
  },
  {
   "cell_type": "code",
   "execution_count": 12,
   "metadata": {},
   "outputs": [
    {
     "data": {
      "image/png": "[encoded data removed]",
      "text/plain": [
       "<Figure size 432x288 with 1 Axes>"
      ]
     },
     "metadata": {},
     "output_type": "display_data"
    }
   ],
   "source": [
    "#load test image\n",
    "im_test=cv2.imread(\"Images/spoon/spoon_1.jpg\")\n",
    "\n",
    "im_test_resize=cv2.resize(im_test,(46,83))\n",
    "#gray the image\n",
    "im_test_resize_gray=cv2.cvtColor(im_test_resize, cv2.COLOR_BGR2GRAY)\n",
    "\n",
    "im_test_resize_gray.shape #check\n",
    "\n",
    "#visualize image\n",
    "plt.imshow(im_test_resize_gray, cmap='gray')\n",
    "plt.axis('off')\n",
    "plt.show()\n"
   ]
  },
  {
   "cell_type": "code",
   "execution_count": 13,
   "metadata": {},
   "outputs": [
    {
     "name": "stdout",
     "output_type": "stream",
     "text": [
      "The object is a: spoon\n"
     ]
    }
   ],
   "source": [
    "#extract hog features\n",
    "hist_test = feature.hog(im_test_resize_gray, orientations = 9,\n",
    "    pixels_per_cell = (8,8),\n",
    "    cells_per_block = (3,3),\n",
    "    transform_sqrt = False,block_norm='L2-Hys')\n",
    "\n",
    "hist_test=hist_test.reshape(1,hist_test.shape[0]) #reshape data \n",
    "\n",
    "hist_test.shape #check\n",
    "\n",
    "#apply model\n",
    "print('The object is a:', load_model.predict(hist_test)[0])"
   ]
  },
  {
   "cell_type": "markdown",
   "metadata": {},
   "source": [
    "#### References\n",
    "\n",
    "1. Gabriel Garrido and Prateek Joshi, \"OpenCV 3.x with Python By Example\", Packt, 2018, Chpt. 9. \n",
    "2. Michael Beyeler, \"Machine Learning for OpenCV\", Packt, 2017, Chpt. 6.\n",
    "3. Adrian Rosebrock, \"Practical Python and OpenCV: Case Studies\", 3rd Edition, pyimagesearch, 2016."
   ]
  }
 ],
 "metadata": {
  "kernelspec": {
   "display_name": "Python 3",
   "language": "python",
   "name": "python3"
  },
  "language_info": {
   "codemirror_mode": {
    "name": "ipython",
    "version": 3
   },
   "file_extension": ".py",
   "mimetype": "text/x-python",
   "name": "python",
   "nbconvert_exporter": "python",
   "pygments_lexer": "ipython3",
   "version": "3.5.4"
  },
  "widgets": {
   "state": {},
   "version": "1.1.2"
  }
 },
 "nbformat": 4,
 "nbformat_minor": 1
}
