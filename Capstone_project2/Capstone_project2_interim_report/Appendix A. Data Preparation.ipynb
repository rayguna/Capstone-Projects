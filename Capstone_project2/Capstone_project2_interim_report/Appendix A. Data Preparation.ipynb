{
 "cells": [
  {
   "cell_type": "markdown",
   "metadata": {},
   "source": [
    "### Apendix A. Data Preparation"
   ]
  },
  {
   "cell_type": "markdown",
   "metadata": {},
   "source": [
    "As a part of the data preparation, labeled training images are standardized in terms of its orientation and dimensions. The number of dataset is increased by augmentation. The data is then saved into a csv file for later retrieval. \n"
   ]
  },
  {
   "cell_type": "markdown",
   "metadata": {},
   "source": [
    "**Table of Contents**\n",
    "\n",
    "1. Standardize image characteristics (i.e., orientation and size)\n",
    "2. Augment datasets\n",
    "3. Retrieve and regenerate images from the saved csv file\n",
    "4. Combine csv files in Data folder into a single DataFrame"
   ]
  },
  {
   "cell_type": "markdown",
   "metadata": {},
   "source": [
    "***"
   ]
  },
  {
   "cell_type": "markdown",
   "metadata": {},
   "source": [
    "#### 1. Standardize image characteristics (i.e., orientation and size)    \n",
    "\n",
    "Given a set of labeled training images, the first step is to standardize the image orientation and size. It is assumed that the image initially has the following dimensions: 4128x2322 pixels."
   ]
  },
  {
   "cell_type": "code",
   "execution_count": 12,
   "metadata": {},
   "outputs": [
    {
     "data": {
      "image/png": "[encoded data removed]",
      "text/plain": [
       "<Figure size 432x288 with 3 Axes>"
      ]
     },
     "metadata": {},
     "output_type": "display_data"
    }
   ],
   "source": [
    "import cv2\n",
    "import matplotlib.pyplot as plt\n",
    "\n",
    "#image paths\n",
    "images=[\"Images/spoon/spoon_2.jpg\",\"Images/fork/fork_2.jpg\", \"Images/floss/floss_2.jpg\"]\n",
    "#image labels\n",
    "label_dict_key=['1','2','3']\n",
    "label_dict={'1':'(a) Spoon','2':'(b) Fork','3':'(c) Floss'}\n",
    "\n",
    "for i,image in enumerate(images):\n",
    "    plt.subplot(1,3,i+1)\n",
    "    img=cv2.imread(image)\n",
    "    plt.imshow(img)\n",
    "    plt.title(label_dict[label_dict_key[i]])\n",
    "    plt.axis('off') #turn off axes\n",
    "plt.show()\n"
   ]
  },
  {
   "cell_type": "markdown",
   "metadata": {},
   "source": [
    "#### 1.1. Create a function that resize the images and makes sure that the orientations are the same  "
   ]
  },
  {
   "cell_type": "code",
   "execution_count": 13,
   "metadata": {
    "collapsed": true
   },
   "outputs": [],
   "source": [
    "import cv2\n",
    "import matplotlib.pyplot as plt\n",
    "import numpy as np\n",
    "\n",
    "#1. standardize images\n",
    "def create_gray_image(img_filename):\n",
    "    \"\"\"\n",
    "    Accepts a colored image as an input and returns a 2D array of a shrunk image (to 2% of its original size) \n",
    "    input \n",
    "        filename: specify image filename and path\n",
    "    output\n",
    "        returns a 2d numpy array of the gray image\n",
    "    \"\"\"\n",
    "        \n",
    "    #a. read image file\n",
    "    img=cv2.imread(img_filename)\n",
    "\n",
    "    #b. resize image to 2% its original dimensions\n",
    "    img = cv2.resize(img, (0,0), fx=0.02, fy=0.02)\n",
    "\n",
    "    #c. change image to grayscale\n",
    "    gray = cv2.cvtColor(img, cv2.COLOR_BGR2GRAY)\n",
    "\n",
    "    #check\n",
    "    #plt.imshow(gray) \n",
    "    #plt.show()\n",
    "\n",
    "    x,y=gray.shape #get gray image dimensions\n",
    "    #print(x,y) #check\n",
    "\n",
    "    #d. check image orientation. If vertically oriented, rotate it 90 degrees\n",
    "    if x > y:\n",
    "        #rotate image by 90 degrees\n",
    "        rotated = imutils.rotate_bound(gray, 90)\n",
    "        \n",
    "        #resize image\n",
    "        rotated = cv2.resize(rotated, (x, y))\n",
    "        \n",
    "        #check\n",
    "        #plt.imshow(rotated)\n",
    "        #plt.title(img_filename) #add title\n",
    "        #plt.show()\n",
    "        \n",
    "        #return a processed image\n",
    "        return rotated\n",
    "    \n",
    "    #otherwise, just plot it out to allow a visual inspections\n",
    "    else:\n",
    "        \n",
    "        #check\n",
    "        #plt.imshow(gray)\n",
    "        #plt.title(img_filename) #add title\n",
    "        #plt.show()   \n",
    "        \n",
    "        #return a processed image\n",
    "        return gray"
   ]
  },
  {
   "cell_type": "markdown",
   "metadata": {},
   "source": [
    "#### 1.2. Augment datasets  "
   ]
  },
  {
   "cell_type": "markdown",
   "metadata": {},
   "source": [
    "To increase the number of dataset, I carry out augmentation.\n",
    "\n",
    "ref.: \n",
    "1. Rajalingappaa Shanmugamani, \"Deep Learning for Computer Vision\", Packt 2018, Chpt. 2: Augmentation techniques.\n",
    "2. https://machinelearningmastery.com/image-augmentation-deep-learning-keras/\n",
    "3. https://keras.io/preprocessing/image/\n",
    "4. https://blog.keras.io/building-powerful-image-classification-models-using-very-little-data.html\n",
    "5. https://www.youtube.com/watch?v=14syUbL16k4\n",
    "\n",
    "The number of datasets can be increased by applying data augmentation. Data augmentation techniques include flipping, random cropping, shearing, zooming, rotation, whitening, normalization, and channel shifting. Data augmentation can be implemented using the built in tensorflow ImageGenerator method. "
   ]
  },
  {
   "cell_type": "code",
   "execution_count": 14,
   "metadata": {
    "collapsed": true
   },
   "outputs": [],
   "source": [
    "#2. augment datasets  \n",
    "\n",
    "\n",
    "\n",
    "def augment_datasets(df_orig, no_of_images, label_name):\n",
    "    \"\"\"\n",
    "    Given a list of image array dataset, augment to increase the number of dataset\n",
    "        \n",
    "    Input:\n",
    "        dataframe=a DataFrame of a flatten image array dataset\n",
    "        no_of_images=number of images to augment\n",
    "        label_name=label of images\n",
    "    Output:\n",
    "        a DataFrame of the original and the augmented dataset (i.e., the combined DataFrame)\n",
    "    \"\"\"\n",
    "    \n",
    "    #dynamically set tensorflow backend\n",
    "    #https://stackoverflow.com/questions/49121112/how-do-i-set-the-keras-backend-in-python-dynamically-when-loaded-using-superviso\n",
    "    import os\n",
    "    os.environ['KERAS_BACKEND'] = 'tensorflow'\n",
    "    from keras import backend as K\n",
    "    from keras.preprocessing.image import ImageDataGenerator\n",
    "\n",
    "   \n",
    "    df_temp=pd.DataFrame() #an empty DataFrame for storing augment image arrays \n",
    "\n",
    "    #prepare inputs\n",
    "    df2=df_orig.iloc[:,:3818].as_matrix() #change to matrix\n",
    "    X_train=df2.reshape(df2.shape[0],46,83,1) #reshape\n",
    "    X_train = X_train.astype('float64')\n",
    "    X_train.shape #check\n",
    "\n",
    "    y_train=df_orig.iloc[:,3820]\n",
    "    \n",
    "    #define methods of data augmentation\n",
    "    datagen = ImageDataGenerator(zoom_range=0.2,\n",
    "                                 shear_range=0.2,\n",
    "                                 horizontal_flip=True, \n",
    "                                 vertical_flip=True,\n",
    "                                 featurewise_center=True,\n",
    "                                 featurewise_std_normalization=True,\n",
    "                                 rotation_range=20,\n",
    "                                 width_shift_range=0.2,\n",
    "                                 height_shift_range=0.2)\n",
    "\n",
    "    # fit parameters from data\n",
    "    datagen.fit(X_train)\n",
    "        \n",
    "    # configure batch size and retrieve one batch of images\n",
    "    #for X_batch, y_batch in datagen.flow(X_train, y_train, batch_size=no_of_images):\n",
    "    for X_batch in datagen.flow(X_train, batch_size=no_of_images):\n",
    "        #plot the images to check\n",
    "        for i in range(0, no_of_images): #iterate over each image\n",
    "            #plot the images to check\n",
    "            #plt.subplots()\n",
    "            #plt.imshow(X_batch[i].reshape(46,83), cmap=plt.get_cmap('gray'))\n",
    "\n",
    "            #for each image, augment 7 times\n",
    "            #append new_image to existing DataFrame\n",
    "            for j in range(0,7):\n",
    "                df_temp=pd.concat([df_temp,pd.Series(X_batch[i].flatten())],axis=1)\n",
    "        break\n",
    "\n",
    "        \n",
    "    df_temp=df_temp.T #transpose DataFrame\n",
    "    df_temp.head() #check\n",
    "    \n",
    "    #combine DataFrames (i.e., original with augmented data)\n",
    "    df_augment=pd.concat([df_temp,df_orig.iloc[:,:3818]],axis=0) \n",
    "    \n",
    "    #add label column and rename columns\n",
    "    #replace index column with numbered values \n",
    "    #https://stackoverflow.com/questions/20107570/removing-index-column-in-pandas\n",
    "    df_augment.reset_index(drop = True, inplace = True) \n",
    "\n",
    "    #add pixel dimensions and a label column\n",
    "    df_augment['w']=df_orig.iloc[0,3818]\n",
    "    df_augment['h']=df_orig.iloc[0,3819]\n",
    "    df_augment['label']=label_name\n",
    "    \n",
    "    \n",
    "    df_augment.shape #check\n",
    "    df_augment.head() #check\n",
    "    \n",
    "    #return the combined DataFrame\n",
    "    return df_augment    "
   ]
  },
  {
   "cell_type": "markdown",
   "metadata": {},
   "source": [
    "#### 1.3. Create a function that creates a DataFrame of the image array"
   ]
  },
  {
   "cell_type": "code",
   "execution_count": 15,
   "metadata": {
    "collapsed": true
   },
   "outputs": [],
   "source": [
    "import glob\n",
    "import imutils\n",
    "import os\n",
    "import pandas as pd\n",
    "\n",
    "def create_image_DataFrame(list_of_image_filenames, no_of_images, label_name):\n",
    "    \"\"\"\n",
    "    Given a list of images, create a DataFrame of flattened array of images\n",
    "    \n",
    "    Dependent functions:\n",
    "        -create_gray_image(img_filename)\n",
    "        -augment_datasets(df_orig, no_of_images, label_name)\n",
    "    Input:\n",
    "        a list of image filenames\n",
    "    Output:\n",
    "        a DataFrame of the original and the augmented dataset (i.e., the combined DataFrame)\n",
    "    \"\"\"\n",
    "    \n",
    "    #create an empty DataFrame for storing the data\n",
    "    df_temp=pd.DataFrame()\n",
    "    \n",
    "    #convert each image in a specified folder to gray\n",
    "    for i in list_of_image_filenames:\n",
    "        gray_image=create_gray_image(i)\n",
    "\n",
    "        #save image to file\n",
    "        ##cv2.imwrite(i, gray_image)\n",
    "\n",
    "        #get array dimensions\n",
    "        img_dim=gray_image.shape\n",
    "\n",
    "        #flatten image\n",
    "        img_flatten=gray_image.flatten()\n",
    "\n",
    "        #https://www.tutorialspoint.com/numpy/numpy_append.htm\n",
    "        #append image dimension to the array: comb_arr\n",
    "        comb_arr=np.append(img_flatten,img_dim) \n",
    "\n",
    "        #save flattened array to a DataFrame\n",
    "        df_temp=pd.concat([df_temp,pd.Series(comb_arr)],axis=1)\n",
    "\n",
    "    df_temp=df_temp.T #transpose data to make columns the pixel numbers\n",
    "    #df_temp.head() #check  \n",
    "    \n",
    "    #replace index column with numbered values \n",
    "    #https://stackoverflow.com/questions/20107570/removing-index-column-in-pandas\n",
    "    df_temp.reset_index(drop = True, inplace = True) \n",
    "\n",
    "    #add a label column\n",
    "    df_temp['label']='spoon'\n",
    "\n",
    "    #rename last two columns\n",
    "    #last two columns are image dimensions\n",
    "    df_temp=df_temp.rename({3818:'w',3819:'h'}, axis='columns')\n",
    "    \n",
    "    return augment_datasets(df_temp, no_of_images, label_name) #return the combined augmented images DataFrame\n",
    "\n"
   ]
  },
  {
   "cell_type": "code",
   "execution_count": 16,
   "metadata": {
    "collapsed": true
   },
   "outputs": [],
   "source": [
    "import glob\n",
    "\n",
    "#1. spoon dataset\n",
    "list_of_image_filenames=glob.glob('Images/spoon/spoon_*.jpg')\n",
    "df_spoon=create_image_DataFrame(list_of_image_filenames,14,'spoon')\n",
    "\n",
    "df_spoon.shape #check\n",
    "#save data to csv\n",
    "df_spoon.to_csv('Data/spoon.csv',index=False)"
   ]
  },
  {
   "cell_type": "code",
   "execution_count": 17,
   "metadata": {
    "collapsed": true
   },
   "outputs": [],
   "source": [
    "#2. fork dataset\n",
    "list_of_image_filenames2=glob.glob('Images/fork/fork_*.jpg')\n",
    "df_fork=create_image_DataFrame(list_of_image_filenames2,14,'fork')\n",
    "\n",
    "df_fork.shape #check\n",
    "#save data to csv\n",
    "df_fork.to_csv('Data/fork.csv',index=False)"
   ]
  },
  {
   "cell_type": "code",
   "execution_count": 18,
   "metadata": {
    "collapsed": true
   },
   "outputs": [],
   "source": [
    "#3. floss dataset\n",
    "list_of_image_filenames3=glob.glob('Images/floss/floss_*.jpg')\n",
    "df_floss=create_image_DataFrame(list_of_image_filenames3,14,'floss')\n",
    "\n",
    "df_floss.shape #check\n",
    "#save data to csv\n",
    "df_floss.to_csv('Data/floss.csv',index=False)"
   ]
  },
  {
   "cell_type": "markdown",
   "metadata": {},
   "source": [
    "#### 3. Retrieve and regenerate images from the saved csv file\n",
    "Here, I demonstrate that the saved data can be retrieved and the images can be regenerated."
   ]
  },
  {
   "cell_type": "code",
   "execution_count": 19,
   "metadata": {},
   "outputs": [
    {
     "data": {
      "text/html": [
       "<div>\n",
       "<style scoped>\n",
       "    .dataframe tbody tr th:only-of-type {\n",
       "        vertical-align: middle;\n",
       "    }\n",
       "\n",
       "    .dataframe tbody tr th {\n",
       "        vertical-align: top;\n",
       "    }\n",
       "\n",
       "    .dataframe thead th {\n",
       "        text-align: right;\n",
       "    }\n",
       "</style>\n",
       "<table border=\"1\" class=\"dataframe\">\n",
       "  <thead>\n",
       "    <tr style=\"text-align: right;\">\n",
       "      <th></th>\n",
       "      <th>0</th>\n",
       "      <th>1</th>\n",
       "      <th>2</th>\n",
       "      <th>3</th>\n",
       "      <th>4</th>\n",
       "      <th>5</th>\n",
       "      <th>6</th>\n",
       "      <th>7</th>\n",
       "      <th>8</th>\n",
       "      <th>9</th>\n",
       "      <th>...</th>\n",
       "      <th>3811</th>\n",
       "      <th>3812</th>\n",
       "      <th>3813</th>\n",
       "      <th>3814</th>\n",
       "      <th>3815</th>\n",
       "      <th>3816</th>\n",
       "      <th>3817</th>\n",
       "      <th>w</th>\n",
       "      <th>h</th>\n",
       "      <th>label</th>\n",
       "    </tr>\n",
       "  </thead>\n",
       "  <tbody>\n",
       "    <tr>\n",
       "      <th>0</th>\n",
       "      <td>-1.141446</td>\n",
       "      <td>-0.967295</td>\n",
       "      <td>-1.05425</td>\n",
       "      <td>-1.100621</td>\n",
       "      <td>-1.264671</td>\n",
       "      <td>-1.214195</td>\n",
       "      <td>-0.020537</td>\n",
       "      <td>0.648286</td>\n",
       "      <td>0.669626</td>\n",
       "      <td>0.653599</td>\n",
       "      <td>...</td>\n",
       "      <td>-2.465055</td>\n",
       "      <td>-2.378481</td>\n",
       "      <td>-2.399719</td>\n",
       "      <td>-2.420958</td>\n",
       "      <td>-2.389898</td>\n",
       "      <td>-2.198751</td>\n",
       "      <td>-2.007605</td>\n",
       "      <td>46</td>\n",
       "      <td>83</td>\n",
       "      <td>spoon</td>\n",
       "    </tr>\n",
       "    <tr>\n",
       "      <th>1</th>\n",
       "      <td>-1.141446</td>\n",
       "      <td>-0.967295</td>\n",
       "      <td>-1.05425</td>\n",
       "      <td>-1.100621</td>\n",
       "      <td>-1.264671</td>\n",
       "      <td>-1.214195</td>\n",
       "      <td>-0.020537</td>\n",
       "      <td>0.648286</td>\n",
       "      <td>0.669626</td>\n",
       "      <td>0.653599</td>\n",
       "      <td>...</td>\n",
       "      <td>-2.465055</td>\n",
       "      <td>-2.378481</td>\n",
       "      <td>-2.399719</td>\n",
       "      <td>-2.420958</td>\n",
       "      <td>-2.389898</td>\n",
       "      <td>-2.198751</td>\n",
       "      <td>-2.007605</td>\n",
       "      <td>46</td>\n",
       "      <td>83</td>\n",
       "      <td>spoon</td>\n",
       "    </tr>\n",
       "    <tr>\n",
       "      <th>2</th>\n",
       "      <td>-1.141446</td>\n",
       "      <td>-0.967295</td>\n",
       "      <td>-1.05425</td>\n",
       "      <td>-1.100621</td>\n",
       "      <td>-1.264671</td>\n",
       "      <td>-1.214195</td>\n",
       "      <td>-0.020537</td>\n",
       "      <td>0.648286</td>\n",
       "      <td>0.669626</td>\n",
       "      <td>0.653599</td>\n",
       "      <td>...</td>\n",
       "      <td>-2.465055</td>\n",
       "      <td>-2.378481</td>\n",
       "      <td>-2.399719</td>\n",
       "      <td>-2.420958</td>\n",
       "      <td>-2.389898</td>\n",
       "      <td>-2.198751</td>\n",
       "      <td>-2.007605</td>\n",
       "      <td>46</td>\n",
       "      <td>83</td>\n",
       "      <td>spoon</td>\n",
       "    </tr>\n",
       "    <tr>\n",
       "      <th>3</th>\n",
       "      <td>-1.141446</td>\n",
       "      <td>-0.967295</td>\n",
       "      <td>-1.05425</td>\n",
       "      <td>-1.100621</td>\n",
       "      <td>-1.264671</td>\n",
       "      <td>-1.214195</td>\n",
       "      <td>-0.020537</td>\n",
       "      <td>0.648286</td>\n",
       "      <td>0.669626</td>\n",
       "      <td>0.653599</td>\n",
       "      <td>...</td>\n",
       "      <td>-2.465055</td>\n",
       "      <td>-2.378481</td>\n",
       "      <td>-2.399719</td>\n",
       "      <td>-2.420958</td>\n",
       "      <td>-2.389898</td>\n",
       "      <td>-2.198751</td>\n",
       "      <td>-2.007605</td>\n",
       "      <td>46</td>\n",
       "      <td>83</td>\n",
       "      <td>spoon</td>\n",
       "    </tr>\n",
       "    <tr>\n",
       "      <th>4</th>\n",
       "      <td>-1.141446</td>\n",
       "      <td>-0.967295</td>\n",
       "      <td>-1.05425</td>\n",
       "      <td>-1.100621</td>\n",
       "      <td>-1.264671</td>\n",
       "      <td>-1.214195</td>\n",
       "      <td>-0.020537</td>\n",
       "      <td>0.648286</td>\n",
       "      <td>0.669626</td>\n",
       "      <td>0.653599</td>\n",
       "      <td>...</td>\n",
       "      <td>-2.465055</td>\n",
       "      <td>-2.378481</td>\n",
       "      <td>-2.399719</td>\n",
       "      <td>-2.420958</td>\n",
       "      <td>-2.389898</td>\n",
       "      <td>-2.198751</td>\n",
       "      <td>-2.007605</td>\n",
       "      <td>46</td>\n",
       "      <td>83</td>\n",
       "      <td>spoon</td>\n",
       "    </tr>\n",
       "  </tbody>\n",
       "</table>\n",
       "<p>5 rows × 3821 columns</p>\n",
       "</div>"
      ],
      "text/plain": [
       "          0         1        2         3         4         5         6  \\\n",
       "0 -1.141446 -0.967295 -1.05425 -1.100621 -1.264671 -1.214195 -0.020537   \n",
       "1 -1.141446 -0.967295 -1.05425 -1.100621 -1.264671 -1.214195 -0.020537   \n",
       "2 -1.141446 -0.967295 -1.05425 -1.100621 -1.264671 -1.214195 -0.020537   \n",
       "3 -1.141446 -0.967295 -1.05425 -1.100621 -1.264671 -1.214195 -0.020537   \n",
       "4 -1.141446 -0.967295 -1.05425 -1.100621 -1.264671 -1.214195 -0.020537   \n",
       "\n",
       "          7         8         9  ...        3811      3812      3813  \\\n",
       "0  0.648286  0.669626  0.653599  ...   -2.465055 -2.378481 -2.399719   \n",
       "1  0.648286  0.669626  0.653599  ...   -2.465055 -2.378481 -2.399719   \n",
       "2  0.648286  0.669626  0.653599  ...   -2.465055 -2.378481 -2.399719   \n",
       "3  0.648286  0.669626  0.653599  ...   -2.465055 -2.378481 -2.399719   \n",
       "4  0.648286  0.669626  0.653599  ...   -2.465055 -2.378481 -2.399719   \n",
       "\n",
       "       3814      3815      3816      3817   w   h  label  \n",
       "0 -2.420958 -2.389898 -2.198751 -2.007605  46  83  spoon  \n",
       "1 -2.420958 -2.389898 -2.198751 -2.007605  46  83  spoon  \n",
       "2 -2.420958 -2.389898 -2.198751 -2.007605  46  83  spoon  \n",
       "3 -2.420958 -2.389898 -2.198751 -2.007605  46  83  spoon  \n",
       "4 -2.420958 -2.389898 -2.198751 -2.007605  46  83  spoon  \n",
       "\n",
       "[5 rows x 3821 columns]"
      ]
     },
     "execution_count": 19,
     "metadata": {},
     "output_type": "execute_result"
    }
   ],
   "source": [
    "import pandas as pd\n",
    "import numpy as np\n",
    "import matplotlib.pyplot as plt\n",
    "\n",
    "#try to regenerate images from saved csv file\n",
    "#https://stackoverflow.com/questions/8458315/more-elegant-way-to-create-a-2d-matrix-in-python\n",
    "\n",
    "#import data - test\n",
    "df_retr_spoon=pd.read_csv('Data/spoon.csv')\n",
    "df_retr_spoon.head() #check\n",
    "\n",
    "#df_retr_spoon.shape"
   ]
  },
  {
   "cell_type": "code",
   "execution_count": 20,
   "metadata": {},
   "outputs": [
    {
     "data": {
      "image/png": "[encoded data removed]",
      "text/plain": [
       "<Figure size 432x288 with 9 Axes>"
      ]
     },
     "metadata": {},
     "output_type": "display_data"
    }
   ],
   "source": [
    "#reshape data\n",
    "#retrieve last 9 rows, first 3818 columns and turn into a numpy array\n",
    "for i in range(9):\n",
    "    plt.subplot(330+1+i) \n",
    "    img_data=np.array(df_retr_spoon.iloc[len(df_retr_spoon)-9+i,:3818], dtype=float) #make sure to specify data type as float when converting to an np array\n",
    "    #reshape data\n",
    "    img_data=img_data.reshape(46,83)\n",
    "\n",
    "    #img_data.shape #check shape\n",
    "    plt.imshow(img_data, cmap='gray')\n",
    "    plt.axis('off') #turn off axes\n",
    "    \n",
    "plt.show()"
   ]
  },
  {
   "cell_type": "markdown",
   "metadata": {},
   "source": [
    "#### 4. Combine csv files in Data folder into a single DataFrame"
   ]
  },
  {
   "cell_type": "code",
   "execution_count": 21,
   "metadata": {
    "collapsed": true
   },
   "outputs": [],
   "source": [
    "df_combined=pd.DataFrame() #an empty DataFrame to combine the individual DataFrames\n",
    "\n",
    "df_list=[df_spoon,df_fork,df_floss]\n",
    "\n",
    "#for df in glob.glob(\"Data/*.csv\"):\n",
    "#    df_combined=pd.concat([df_combined,df],axis=0)\n",
    "for each in df_list:\n",
    "    df_combined=pd.concat([df_combined,each])\n",
    "    \n",
    "df_combined.to_csv('Data/combined.csv', index=False) #save DataFrame to a csv"
   ]
  },
  {
   "cell_type": "code",
   "execution_count": 25,
   "metadata": {},
   "outputs": [
    {
     "data": {
      "text/plain": [
       "(336, 3821)"
      ]
     },
     "execution_count": 25,
     "metadata": {},
     "output_type": "execute_result"
    }
   ],
   "source": [
    "df_combined.shape #check\n",
    "#df_combined.head() #check"
   ]
  },
  {
   "cell_type": "markdown",
   "metadata": {},
   "source": [
    "**Summary**\n",
    "\n",
    "- Standardize image orientation and size of three group of images (i.e., spoon, fork, and floss) \n",
    "- Performed image augmentation to increase the number of images from 14 to 112 per category \n",
    "- Save image to a DataFrame and apply label for later retieval"
   ]
  }
 ],
 "metadata": {
  "kernelspec": {
   "display_name": "Python 3",
   "language": "python",
   "name": "python3"
  },
  "language_info": {
   "codemirror_mode": {
    "name": "ipython",
    "version": 3
   },
   "file_extension": ".py",
   "mimetype": "text/x-python",
   "name": "python",
   "nbconvert_exporter": "python",
   "pygments_lexer": "ipython3",
   "version": "3.5.4"
  },
  "widgets": {
   "state": {},
   "version": "1.1.2"
  }
 },
 "nbformat": 4,
 "nbformat_minor": 1
}
