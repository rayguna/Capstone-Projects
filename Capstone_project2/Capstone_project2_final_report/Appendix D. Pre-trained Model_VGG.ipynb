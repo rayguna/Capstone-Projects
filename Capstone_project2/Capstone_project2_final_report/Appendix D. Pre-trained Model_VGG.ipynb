{
 "cells": [
  {
   "cell_type": "markdown",
   "metadata": {},
   "source": [
    "### D. Pre-trained model: Visual Geometry Group-16 (VGG-16)\n",
    "\n",
    "Initially assessment of the well-known pre-trained VGG16 model shows that it poorly predicts the three objects that are studied in this project (i.e., spoon, fork, and floss). The number 16 means that it consists of 16 weight layers [1]. This justifies the need to train this model. Due to its more complex architecture than the models that are dicussed in **Appendix B** and **C**, I believe that a trained VGG16 model will achieve a greater accuracy. "
   ]
  },
  {
   "cell_type": "markdown",
   "metadata": {},
   "source": [
    "**Table of Contents**\n",
    "\n",
    "1. Initial Assessment  \n",
    "2. Applying a custom training dataset   \n",
    "3. References  \n",
    "4. Summary  "
   ]
  },
  {
   "cell_type": "markdown",
   "metadata": {},
   "source": [
    "***"
   ]
  },
  {
   "cell_type": "markdown",
   "metadata": {},
   "source": [
    "#### 1. Initial Assessment"
   ]
  },
  {
   "cell_type": "code",
   "execution_count": 1,
   "metadata": {
    "scrolled": true
   },
   "outputs": [
    {
     "name": "stderr",
     "output_type": "stream",
     "text": [
      "C:\\Anaconda2\\envs\\py36\\lib\\site-packages\\h5py\\__init__.py:36: FutureWarning: Conversion of the second argument of issubdtype from `float` to `np.floating` is deprecated. In future, it will be treated as `np.float64 == np.dtype(float).type`.\n",
      "  from ._conv import register_converters as _register_converters\n",
      "Using TensorFlow backend.\n"
     ]
    }
   ],
   "source": [
    "#dynamically set tensorflow backend\n",
    "#https://stackoverflow.com/questions/49121112/how-do-i-set-the-keras-backend-in-python-dynamically-when-loaded-using-superviso\n",
    "import os\n",
    "os.environ['KERAS_BACKEND'] = 'tensorflow'\n",
    "from keras import backend as K\n",
    "\n",
    "from keras.utils import np_utils\n"
   ]
  },
  {
   "cell_type": "code",
   "execution_count": 2,
   "metadata": {
    "collapsed": true
   },
   "outputs": [],
   "source": [
    "#initial test\n",
    "#https://machinelearningmastery.com/use-pre-trained-vgg-model-classify-objects-photographs/\n",
    "\n",
    "from keras.preprocessing.image import load_img\n",
    "from keras.preprocessing.image import img_to_array\n",
    "from keras.applications.vgg16 import preprocess_input\n",
    "from keras.applications.vgg16 import decode_predictions\n",
    "from keras.applications.vgg16 import VGG16\n",
    "\n",
    "# load the model\n",
    "model = VGG16()"
   ]
  },
  {
   "cell_type": "code",
   "execution_count": 3,
   "metadata": {},
   "outputs": [
    {
     "name": "stdout",
     "output_type": "stream",
     "text": [
      "Predicted label: envelope (14.83%); actual label: floss\n",
      "Predicted label: spatula (59.51%); actual label: fork\n",
      "Predicted label: hook (23.42%); actual label: spoon\n"
     ]
    }
   ],
   "source": [
    "# load an image from file\n",
    "labels=[\"floss\",\"fork\",\"spoon\"]\n",
    "\n",
    "for i,image in enumerate(labels):\n",
    "    image = load_img('Images/%s_test.jpg' %(image), target_size=(224, 224))\n",
    "\n",
    "    # convert the image pixels to a numpy array\n",
    "    image = img_to_array(image)\n",
    "\n",
    "    # reshape data for the model\n",
    "    image = image.reshape((1, image.shape[0], image.shape[1], image.shape[2]))\n",
    "\n",
    "    # prepare the image for the VGG model\n",
    "    image = preprocess_input(image)\n",
    "\n",
    "    # predict the probability across all output classes\n",
    "    yhat = model.predict(image)\n",
    "\n",
    "    # convert the probabilities to class labels\n",
    "    label = decode_predictions(yhat)\n",
    "\n",
    "    # retrieve the most likely result, e.g. highest probability\n",
    "    label = label[0][0]\n",
    "\n",
    "    # print the classification\n",
    "    print('Predicted label: %s (%.2f%%); actual label: %s' % (label[1], label[2]*100, labels[i]))"
   ]
  },
  {
   "cell_type": "markdown",
   "metadata": {},
   "source": [
    "- The built-in VGG model is unable to predict correctly any of the three objects (i.e., spoon, fork, and floss)\n",
    "- Therefore, there is a need to re-train this model "
   ]
  },
  {
   "cell_type": "markdown",
   "metadata": {},
   "source": [
    "#### 2. Applying a custom training dataset \n",
    "#### 2.1. Load, prepare, and inspect data"
   ]
  },
  {
   "cell_type": "code",
   "execution_count": 4,
   "metadata": {},
   "outputs": [
    {
     "data": {
      "text/html": [
       "<div>\n",
       "<style scoped>\n",
       "    .dataframe tbody tr th:only-of-type {\n",
       "        vertical-align: middle;\n",
       "    }\n",
       "\n",
       "    .dataframe tbody tr th {\n",
       "        vertical-align: top;\n",
       "    }\n",
       "\n",
       "    .dataframe thead th {\n",
       "        text-align: right;\n",
       "    }\n",
       "</style>\n",
       "<table border=\"1\" class=\"dataframe\">\n",
       "  <thead>\n",
       "    <tr style=\"text-align: right;\">\n",
       "      <th></th>\n",
       "      <th>0</th>\n",
       "      <th>1</th>\n",
       "      <th>2</th>\n",
       "      <th>3</th>\n",
       "      <th>4</th>\n",
       "      <th>5</th>\n",
       "      <th>6</th>\n",
       "      <th>7</th>\n",
       "      <th>8</th>\n",
       "      <th>9</th>\n",
       "      <th>...</th>\n",
       "      <th>17915</th>\n",
       "      <th>17916</th>\n",
       "      <th>17917</th>\n",
       "      <th>17918</th>\n",
       "      <th>17919</th>\n",
       "      <th>17920</th>\n",
       "      <th>17921</th>\n",
       "      <th>w</th>\n",
       "      <th>h</th>\n",
       "      <th>label</th>\n",
       "    </tr>\n",
       "  </thead>\n",
       "  <tbody>\n",
       "    <tr>\n",
       "      <th>0</th>\n",
       "      <td>-0.985585</td>\n",
       "      <td>-1.065055</td>\n",
       "      <td>-1.200833</td>\n",
       "      <td>-0.929019</td>\n",
       "      <td>-1.005393</td>\n",
       "      <td>-1.137218</td>\n",
       "      <td>-0.985585</td>\n",
       "      <td>-1.005393</td>\n",
       "      <td>-1.137218</td>\n",
       "      <td>-0.872453</td>\n",
       "      <td>...</td>\n",
       "      <td>0.103278</td>\n",
       "      <td>0.202302</td>\n",
       "      <td>0.217666</td>\n",
       "      <td>0.230508</td>\n",
       "      <td>0.258869</td>\n",
       "      <td>0.217666</td>\n",
       "      <td>0.230508</td>\n",
       "      <td>103</td>\n",
       "      <td>3</td>\n",
       "      <td>spoon</td>\n",
       "    </tr>\n",
       "    <tr>\n",
       "      <th>1</th>\n",
       "      <td>-0.985585</td>\n",
       "      <td>-1.065055</td>\n",
       "      <td>-1.200833</td>\n",
       "      <td>-0.929019</td>\n",
       "      <td>-1.005393</td>\n",
       "      <td>-1.137218</td>\n",
       "      <td>-0.985585</td>\n",
       "      <td>-1.005393</td>\n",
       "      <td>-1.137218</td>\n",
       "      <td>-0.872453</td>\n",
       "      <td>...</td>\n",
       "      <td>0.103278</td>\n",
       "      <td>0.202302</td>\n",
       "      <td>0.217666</td>\n",
       "      <td>0.230508</td>\n",
       "      <td>0.258869</td>\n",
       "      <td>0.217666</td>\n",
       "      <td>0.230508</td>\n",
       "      <td>103</td>\n",
       "      <td>3</td>\n",
       "      <td>spoon</td>\n",
       "    </tr>\n",
       "    <tr>\n",
       "      <th>2</th>\n",
       "      <td>-0.985585</td>\n",
       "      <td>-1.065055</td>\n",
       "      <td>-1.200833</td>\n",
       "      <td>-0.929019</td>\n",
       "      <td>-1.005393</td>\n",
       "      <td>-1.137218</td>\n",
       "      <td>-0.985585</td>\n",
       "      <td>-1.005393</td>\n",
       "      <td>-1.137218</td>\n",
       "      <td>-0.872453</td>\n",
       "      <td>...</td>\n",
       "      <td>0.103278</td>\n",
       "      <td>0.202302</td>\n",
       "      <td>0.217666</td>\n",
       "      <td>0.230508</td>\n",
       "      <td>0.258869</td>\n",
       "      <td>0.217666</td>\n",
       "      <td>0.230508</td>\n",
       "      <td>103</td>\n",
       "      <td>3</td>\n",
       "      <td>spoon</td>\n",
       "    </tr>\n",
       "    <tr>\n",
       "      <th>3</th>\n",
       "      <td>-0.985585</td>\n",
       "      <td>-1.065055</td>\n",
       "      <td>-1.200833</td>\n",
       "      <td>-0.929019</td>\n",
       "      <td>-1.005393</td>\n",
       "      <td>-1.137218</td>\n",
       "      <td>-0.985585</td>\n",
       "      <td>-1.005393</td>\n",
       "      <td>-1.137218</td>\n",
       "      <td>-0.872453</td>\n",
       "      <td>...</td>\n",
       "      <td>0.103278</td>\n",
       "      <td>0.202302</td>\n",
       "      <td>0.217666</td>\n",
       "      <td>0.230508</td>\n",
       "      <td>0.258869</td>\n",
       "      <td>0.217666</td>\n",
       "      <td>0.230508</td>\n",
       "      <td>103</td>\n",
       "      <td>3</td>\n",
       "      <td>spoon</td>\n",
       "    </tr>\n",
       "    <tr>\n",
       "      <th>4</th>\n",
       "      <td>-0.985585</td>\n",
       "      <td>-1.065055</td>\n",
       "      <td>-1.200833</td>\n",
       "      <td>-0.929019</td>\n",
       "      <td>-1.005393</td>\n",
       "      <td>-1.137218</td>\n",
       "      <td>-0.985585</td>\n",
       "      <td>-1.005393</td>\n",
       "      <td>-1.137218</td>\n",
       "      <td>-0.872453</td>\n",
       "      <td>...</td>\n",
       "      <td>0.103278</td>\n",
       "      <td>0.202302</td>\n",
       "      <td>0.217666</td>\n",
       "      <td>0.230508</td>\n",
       "      <td>0.258869</td>\n",
       "      <td>0.217666</td>\n",
       "      <td>0.230508</td>\n",
       "      <td>103</td>\n",
       "      <td>3</td>\n",
       "      <td>spoon</td>\n",
       "    </tr>\n",
       "  </tbody>\n",
       "</table>\n",
       "<p>5 rows × 17925 columns</p>\n",
       "</div>"
      ],
      "text/plain": [
       "          0         1         2         3         4         5         6  \\\n",
       "0 -0.985585 -1.065055 -1.200833 -0.929019 -1.005393 -1.137218 -0.985585   \n",
       "1 -0.985585 -1.065055 -1.200833 -0.929019 -1.005393 -1.137218 -0.985585   \n",
       "2 -0.985585 -1.065055 -1.200833 -0.929019 -1.005393 -1.137218 -0.985585   \n",
       "3 -0.985585 -1.065055 -1.200833 -0.929019 -1.005393 -1.137218 -0.985585   \n",
       "4 -0.985585 -1.065055 -1.200833 -0.929019 -1.005393 -1.137218 -0.985585   \n",
       "\n",
       "          7         8         9  ...       17915     17916     17917  \\\n",
       "0 -1.005393 -1.137218 -0.872453  ...    0.103278  0.202302  0.217666   \n",
       "1 -1.005393 -1.137218 -0.872453  ...    0.103278  0.202302  0.217666   \n",
       "2 -1.005393 -1.137218 -0.872453  ...    0.103278  0.202302  0.217666   \n",
       "3 -1.005393 -1.137218 -0.872453  ...    0.103278  0.202302  0.217666   \n",
       "4 -1.005393 -1.137218 -0.872453  ...    0.103278  0.202302  0.217666   \n",
       "\n",
       "      17918     17919     17920     17921    w  h  label  \n",
       "0  0.230508  0.258869  0.217666  0.230508  103  3  spoon  \n",
       "1  0.230508  0.258869  0.217666  0.230508  103  3  spoon  \n",
       "2  0.230508  0.258869  0.217666  0.230508  103  3  spoon  \n",
       "3  0.230508  0.258869  0.217666  0.230508  103  3  spoon  \n",
       "4  0.230508  0.258869  0.217666  0.230508  103  3  spoon  \n",
       "\n",
       "[5 rows x 17925 columns]"
      ]
     },
     "execution_count": 4,
     "metadata": {},
     "output_type": "execute_result"
    }
   ],
   "source": [
    "#Load and inspect training dataset\n",
    "import pandas as pd\n",
    "\n",
    "df=pd.read_csv(\"Data/combined_rgb.csv\")\n",
    "df.head() #check"
   ]
  },
  {
   "cell_type": "code",
   "execution_count": 5,
   "metadata": {
    "collapsed": true
   },
   "outputs": [],
   "source": [
    "X=df.iloc[:,:17922].as_matrix() #change to a matrix data type\n",
    "X=X.reshape(X.shape[0],58, 103,3)#reshape data\n",
    "#print(X.shape) #check\n",
    "\n",
    "Y=df.iloc[:,17924]\n",
    "#change Y to onehotencoder\n",
    "#transform labels to labelBinarizer\n",
    "#https://datascience.stackexchange.com/questions/17516/how-to-deal-with-string-labels-in-multi-class-classification-with-keras\n",
    "from sklearn.preprocessing import LabelBinarizer\n",
    "encoder = LabelBinarizer()\n",
    "transformed_label = encoder.fit_transform([\"spoon\", \"fork\", \"floss\"])\n",
    "\n",
    "Y=encoder.transform(Y) #convert Y dataset to a LabelBinarizer\n",
    "#Y #check"
   ]
  },
  {
   "cell_type": "code",
   "execution_count": 6,
   "metadata": {
    "collapsed": true
   },
   "outputs": [],
   "source": [
    "#split into train and test sets\n",
    "from sklearn.model_selection import train_test_split\n",
    "\n",
    "X_train, X_test, y_train, y_test = train_test_split(X, Y, test_size=0.25, random_state=42)"
   ]
  },
  {
   "cell_type": "code",
   "execution_count": 7,
   "metadata": {},
   "outputs": [
    {
     "data": {
      "text/plain": [
       "(1, 58, 103, 3)"
      ]
     },
     "execution_count": 7,
     "metadata": {},
     "output_type": "execute_result"
    }
   ],
   "source": [
    "#check to make sure than you can retrieve the data and plot into an image\n",
    "import matplotlib.pyplot as plt\n",
    "import numpy as np\n",
    "\n",
    "\n",
    "#reshape and view image\n",
    "random_no=np.random.randint(len(X_train), size=1) #select a random number\n",
    "#print(random_no) #check\n",
    "#X_train.shape #check\n",
    "\n",
    "check_random_image=X_train[random_no] #select an image at random\n",
    "check_random_image.shape #check"
   ]
  },
  {
   "cell_type": "code",
   "execution_count": 8,
   "metadata": {},
   "outputs": [
    {
     "name": "stderr",
     "output_type": "stream",
     "text": [
      "Clipping input data to the valid range for imshow with RGB data ([0..1] for floats or [0..255] for integers).\n"
     ]
    },
    {
     "data": {
      "image/png": "[encoded data removed]",
      "text/plain": [
       "<Figure size 432x288 with 1 Axes>"
      ]
     },
     "metadata": {},
     "output_type": "display_data"
    }
   ],
   "source": [
    "#plot the randomly selected image\n",
    "plt.imshow(check_random_image.reshape(58,103,3))\n",
    "plt.axis(\"off\")\n",
    "plt.show()"
   ]
  },
  {
   "cell_type": "markdown",
   "metadata": {},
   "source": [
    "#### 2.2. Train model"
   ]
  },
  {
   "cell_type": "markdown",
   "metadata": {},
   "source": [
    "*Define model architecture*"
   ]
  },
  {
   "cell_type": "code",
   "execution_count": 9,
   "metadata": {
    "collapsed": true,
    "scrolled": true
   },
   "outputs": [],
   "source": [
    "#code is taken from: https://github.com/lazyprogrammer/machine_learning_examples\n",
    "#cnn_class2/use_pretrained_weights_vgg.py\n",
    "\n",
    "from __future__ import print_function, division\n",
    "from builtins import range, input\n",
    "\n",
    "from keras.layers import Input, Lambda, Dense, Flatten\n",
    "from keras.models import Model\n",
    "from keras.applications.vgg16 import VGG16\n",
    "from keras.applications.vgg16 import preprocess_input\n",
    "from keras.preprocessing import image\n",
    "from keras.preprocessing.image import ImageDataGenerator\n",
    "\n",
    "from sklearn.metrics import confusion_matrix\n",
    "import numpy as np\n",
    "import matplotlib.pyplot as plt\n",
    "\n",
    "from glob import glob\n",
    "from PIL import Image\n",
    "\n",
    "# re-size all the images to this\n",
    "IMAGE_SIZE = [58, 103] # feel free to change depending on dataset, but the minimum dimension is 46x46.\n",
    "\n",
    "\n",
    "# training config:\n",
    "epochs = 10\n",
    "batch_size = 32"
   ]
  },
  {
   "cell_type": "markdown",
   "metadata": {
    "scrolled": true
   },
   "source": [
    "*Build model*"
   ]
  },
  {
   "cell_type": "code",
   "execution_count": 10,
   "metadata": {},
   "outputs": [
    {
     "name": "stdout",
     "output_type": "stream",
     "text": [
      "_________________________________________________________________\n",
      "Layer (type)                 Output Shape              Param #   \n",
      "=================================================================\n",
      "input_2 (InputLayer)         (None, 58, 103, 3)        0         \n",
      "_________________________________________________________________\n",
      "block1_conv1 (Conv2D)        (None, 58, 103, 64)       1792      \n",
      "_________________________________________________________________\n",
      "block1_conv2 (Conv2D)        (None, 58, 103, 64)       36928     \n",
      "_________________________________________________________________\n",
      "block1_pool (MaxPooling2D)   (None, 29, 51, 64)        0         \n",
      "_________________________________________________________________\n",
      "block2_conv1 (Conv2D)        (None, 29, 51, 128)       73856     \n",
      "_________________________________________________________________\n",
      "block2_conv2 (Conv2D)        (None, 29, 51, 128)       147584    \n",
      "_________________________________________________________________\n",
      "block2_pool (MaxPooling2D)   (None, 14, 25, 128)       0         \n",
      "_________________________________________________________________\n",
      "block3_conv1 (Conv2D)        (None, 14, 25, 256)       295168    \n",
      "_________________________________________________________________\n",
      "block3_conv2 (Conv2D)        (None, 14, 25, 256)       590080    \n",
      "_________________________________________________________________\n",
      "block3_conv3 (Conv2D)        (None, 14, 25, 256)       590080    \n",
      "_________________________________________________________________\n",
      "block3_pool (MaxPooling2D)   (None, 7, 12, 256)        0         \n",
      "_________________________________________________________________\n",
      "block4_conv1 (Conv2D)        (None, 7, 12, 512)        1180160   \n",
      "_________________________________________________________________\n",
      "block4_conv2 (Conv2D)        (None, 7, 12, 512)        2359808   \n",
      "_________________________________________________________________\n",
      "block4_conv3 (Conv2D)        (None, 7, 12, 512)        2359808   \n",
      "_________________________________________________________________\n",
      "block4_pool (MaxPooling2D)   (None, 3, 6, 512)         0         \n",
      "_________________________________________________________________\n",
      "block5_conv1 (Conv2D)        (None, 3, 6, 512)         2359808   \n",
      "_________________________________________________________________\n",
      "block5_conv2 (Conv2D)        (None, 3, 6, 512)         2359808   \n",
      "_________________________________________________________________\n",
      "block5_conv3 (Conv2D)        (None, 3, 6, 512)         2359808   \n",
      "_________________________________________________________________\n",
      "block5_pool (MaxPooling2D)   (None, 1, 3, 512)         0         \n",
      "_________________________________________________________________\n",
      "flatten_1 (Flatten)          (None, 1536)              0         \n",
      "_________________________________________________________________\n",
      "dense_1 (Dense)              (None, 3)                 4611      \n",
      "=================================================================\n",
      "Total params: 14,719,299\n",
      "Trainable params: 4,611\n",
      "Non-trainable params: 14,714,688\n",
      "_________________________________________________________________\n"
     ]
    }
   ],
   "source": [
    "# add preprocessing layer to the front of VGG\n",
    "#note that the input data is defined as a 3-channel image\n",
    "#           color_img = cv2.cvtColor(gray_img, cv.CV_GRAY2RGB)\n",
    "\n",
    "vgg = VGG16(input_shape=IMAGE_SIZE + [3], weights='imagenet', include_top=False)\n",
    "\n",
    "# don't train existing weights\n",
    "for layer in vgg.layers:\n",
    "    layer.trainable = False\n",
    "\n",
    "# our layers - you can add more if you want\n",
    "x = Flatten()(vgg.output)\n",
    "# x = Dense(1000, activation='relu')(x)\n",
    "#prediction = Dense(len(folders), activation='softmax')(x)\n",
    "no_classes=3\n",
    "prediction = Dense(no_classes, activation='softmax')(x)\n",
    "\n",
    "\n",
    "# create a model object\n",
    "model = Model(inputs=vgg.input, outputs=prediction)\n",
    "\n",
    "# view the structure of the model\n",
    "model.summary()\n",
    "\n",
    "# tell the model what cost and optimization method to use\n",
    "model.compile(\n",
    "  loss='categorical_crossentropy',\n",
    "  optimizer='rmsprop',\n",
    "  metrics=['accuracy']\n",
    ")"
   ]
  },
  {
   "cell_type": "markdown",
   "metadata": {},
   "source": [
    "*Fit data to model*"
   ]
  },
  {
   "cell_type": "code",
   "execution_count": 11,
   "metadata": {},
   "outputs": [
    {
     "name": "stdout",
     "output_type": "stream",
     "text": [
      "Train on 252 samples, validate on 84 samples\n",
      "Epoch 1/10\n",
      "252/252 [==============================] - 32s 127ms/step - loss: 1.1305 - acc: 0.6786 - val_loss: 0.5179 - val_acc: 0.9643\n",
      "\n",
      "Epoch 00001: val_acc improved from -inf to 0.96429, saving model to Models/vgg_weights-improvement-01-0.96.hdf5\n",
      "Epoch 2/10\n",
      "252/252 [==============================] - 32s 126ms/step - loss: 0.4927 - acc: 0.9444 - val_loss: 0.3513 - val_acc: 0.9643\n",
      "\n",
      "Epoch 00002: val_acc did not improve\n",
      "Epoch 3/10\n",
      "252/252 [==============================] - 32s 127ms/step - loss: 0.3122 - acc: 0.9802 - val_loss: 0.2010 - val_acc: 0.9643\n",
      "\n",
      "Epoch 00003: val_acc did not improve\n",
      "Epoch 4/10\n",
      "252/252 [==============================] - 32s 127ms/step - loss: 0.2428 - acc: 0.9762 - val_loss: 0.1514 - val_acc: 0.9762\n",
      "\n",
      "Epoch 00004: val_acc improved from 0.96429 to 0.97619, saving model to Models/vgg_weights-improvement-04-0.98.hdf5\n",
      "Epoch 5/10\n",
      "252/252 [==============================] - 32s 126ms/step - loss: 0.2003 - acc: 0.9841 - val_loss: 0.1994 - val_acc: 0.9643\n",
      "\n",
      "Epoch 00005: val_acc did not improve\n",
      "Epoch 6/10\n",
      "252/252 [==============================] - 32s 127ms/step - loss: 0.1128 - acc: 0.9921 - val_loss: 0.0962 - val_acc: 1.0000\n",
      "\n",
      "Epoch 00006: val_acc improved from 0.97619 to 1.00000, saving model to Models/vgg_weights-improvement-06-1.00.hdf5\n",
      "Epoch 7/10\n",
      "252/252 [==============================] - 32s 126ms/step - loss: 0.0844 - acc: 1.0000 - val_loss: 0.0791 - val_acc: 1.0000\n",
      "\n",
      "Epoch 00007: val_acc did not improve\n",
      "Epoch 8/10\n",
      "252/252 [==============================] - 32s 126ms/step - loss: 0.0681 - acc: 1.0000 - val_loss: 0.0565 - val_acc: 1.0000\n",
      "\n",
      "Epoch 00008: val_acc did not improve\n",
      "Epoch 9/10\n",
      "252/252 [==============================] - 32s 128ms/step - loss: 0.0505 - acc: 1.0000 - val_loss: 0.0430 - val_acc: 1.0000\n",
      "\n",
      "Epoch 00009: val_acc did not improve\n",
      "Epoch 10/10\n",
      "252/252 [==============================] - 32s 127ms/step - loss: 0.0402 - acc: 1.0000 - val_loss: 0.0354 - val_acc: 1.0000\n",
      "\n",
      "Epoch 00010: val_acc did not improve\n"
     ]
    }
   ],
   "source": [
    "# Checkpoint the weights when validation accuracy improves\n",
    "from keras.callbacks import ModelCheckpoint\n",
    "\n",
    "# checkpoint\n",
    "filepath=\"Models/vgg_weights-improvement-{epoch:02d}-{val_acc:.2f}.hdf5\"\n",
    "checkpoint_vgg = ModelCheckpoint(filepath, monitor='val_acc', verbose=1, save_best_only=True,\n",
    "mode='max')\n",
    "callbacks_list = [checkpoint_vgg]\n",
    "\n",
    "#use this command for model fitting\n",
    "history_vgg=model.fit(X_train, y_train,validation_data=(X_test,y_test),epochs=epochs,callbacks=callbacks_list)"
   ]
  },
  {
   "cell_type": "code",
   "execution_count": 12,
   "metadata": {},
   "outputs": [
    {
     "name": "stdout",
     "output_type": "stream",
     "text": [
      "dict_keys(['loss', 'val_acc', 'acc', 'val_loss'])\n"
     ]
    },
    {
     "data": {
      "image/png": "[encoded data removed]",
      "text/plain": [
       "<Figure size 432x288 with 1 Axes>"
      ]
     },
     "metadata": {},
     "output_type": "display_data"
    },
    {
     "data": {
      "image/png": "[encoded data removed]",
      "text/plain": [
       "<Figure size 432x288 with 1 Axes>"
      ]
     },
     "metadata": {},
     "output_type": "display_data"
    }
   ],
   "source": [
    "# list all data in history\n",
    "#https://machinelearningmastery.com/display-deep-learning-model-training-history-in-keras/\n",
    "print(history_vgg.history.keys())\n",
    "\n",
    "\n",
    "# summarize history for accuracy\n",
    "plt.plot(history_vgg.history['acc'])\n",
    "plt.plot(history_vgg.history['val_acc'])\n",
    "plt.title('model accuracy')\n",
    "plt.ylabel('accuracy')\n",
    "plt.xlabel('epoch')\n",
    "plt.legend(['train', 'test'], loc='upper left')\n",
    "plt.show()\n",
    "# summarize history for loss\n",
    "plt.plot(history_vgg.history['loss'])\n",
    "plt.plot(history_vgg.history['val_loss'])\n",
    "plt.title('model loss')\n",
    "plt.ylabel('loss')\n",
    "plt.xlabel('epoch')\n",
    "plt.legend(['train', 'test'], loc='upper left')\n",
    "plt.show()"
   ]
  },
  {
   "cell_type": "markdown",
   "metadata": {},
   "source": [
    "#### 2.3. Make predictions\n",
    "\n",
    "To validate model's accuracy, I feed it with images that are randomly taken from the internet.\n",
    "    - spoon: http://www.peterhof.cc/classic-cutlery/733-dinner-spoon-6pcs-4895170314301.html\n",
    "    - fork: https://www.amazon.com/Hiware-12-piece-Stainless-Dinner-Cutlery/dp/B01G8HUH8S\n",
    "    - floss: https://greenspointdental.com/flossing-step-step-guide/"
   ]
  },
  {
   "cell_type": "code",
   "execution_count": 4,
   "metadata": {
    "collapsed": true
   },
   "outputs": [],
   "source": [
    "#https://datascience.stackexchange.com/questions/17516/how-to-deal-with-string-labels-in-multi-class-classification-with-keras\n",
    "from sklearn.preprocessing import LabelBinarizer\n",
    "encoder = LabelBinarizer()\n",
    "\n",
    "transformed_label = encoder.fit_transform([\"floss\", \"fork\", \"spoon\"])\n",
    "#print(transformed_label) #check"
   ]
  },
  {
   "cell_type": "code",
   "execution_count": 5,
   "metadata": {},
   "outputs": [
    {
     "data": {
      "text/plain": [
       "<keras.engine.training.Model at 0x23b3bc2dac8>"
      ]
     },
     "execution_count": 5,
     "metadata": {},
     "output_type": "execute_result"
    }
   ],
   "source": [
    "#dynamically set tensorflow backend\n",
    "#https://stackoverflow.com/questions/49121112/how-do-i-set-the-keras-backend-in-python-dynamically-when-loaded-using-superviso\n",
    "import os\n",
    "os.environ['KERAS_BACKEND'] = 'tensorflow'\n",
    "from keras import backend as K\n",
    "\n",
    "from keras.utils import np_utils\n",
    "\n",
    "#code is adapted from: https://machinelearningmastery.com/use-pre-trained-vgg-model-classify-objects-photographs/\n",
    "\n",
    "#load model\n",
    "from keras.models import load_model\n",
    "load_model=load_model('Models/vgg_weights-improvement-06-1.00.hdf5')\n",
    "load_model #check"
   ]
  },
  {
   "cell_type": "code",
   "execution_count": 9,
   "metadata": {},
   "outputs": [
    {
     "name": "stdout",
     "output_type": "stream",
     "text": [
      "The image is a: spoon (prob: [[0. 0. 1.]])\n"
     ]
    },
    {
     "data": {
      "image/png": "[encoded data removed]",
      "text/plain": [
       "<Figure size 432x288 with 1 Axes>"
      ]
     },
     "metadata": {},
     "output_type": "display_data"
    },
    {
     "name": "stdout",
     "output_type": "stream",
     "text": [
      "The image is a: fork (prob: [[0. 1. 0.]])\n"
     ]
    },
    {
     "data": {
      "image/png": "[encoded data removed]",
      "text/plain": [
       "<Figure size 432x288 with 1 Axes>"
      ]
     },
     "metadata": {},
     "output_type": "display_data"
    },
    {
     "name": "stdout",
     "output_type": "stream",
     "text": [
      "The image is a: floss (prob: [[0.86 0.14 0.  ]])\n"
     ]
    },
    {
     "data": {
      "image/png": "[encoded data removed]",
      "text/plain": [
       "<Figure size 432x288 with 1 Axes>"
      ]
     },
     "metadata": {},
     "output_type": "display_data"
    }
   ],
   "source": [
    "from keras.preprocessing.image import load_img\n",
    "import matplotlib.pyplot as plt\n",
    "\n",
    "test_image_paths=['Images/spoon_test.jpg','Images/fork_test.jpg','Images/floss_test.jpg']\n",
    "\n",
    "for test_image_path in test_image_paths:\n",
    "    # load an image from file\n",
    "    image = load_img(test_image_path, target_size=(58,103))\n",
    "\n",
    "\n",
    "    from keras.preprocessing.image import img_to_array\n",
    "    # convert the image pixels to a numpy array\n",
    "    image = img_to_array(image)\n",
    "\n",
    "\n",
    "    # reshape data for the model\n",
    "    image = image.reshape((1, image.shape[0], image.shape[1], image.shape[2])) #convert a 3D to a 4D array\n",
    "\n",
    "    from keras.applications.vgg16 import preprocess_input\n",
    "    # prepare the image for the VGG model\n",
    "    image = preprocess_input(image)\n",
    "\n",
    "    # predict the probability across all output classes\n",
    "    yhat = load_model.predict(image)\n",
    "\n",
    "    import numpy as np\n",
    "    predicted_label=np.around(yhat.astype(float),0)\n",
    "    print('The image is a: %s (prob: %s)' %(encoder.inverse_transform(predicted_label)[0], np.around(yhat.astype('float'),2)))\n",
    "\n",
    "    import cv2\n",
    "\n",
    "    #plot the image\n",
    "    plt.imshow(cv2.imread(test_image_path))\n",
    "    plt.axis('off')\n",
    "    plt.show()"
   ]
  },
  {
   "cell_type": "markdown",
   "metadata": {},
   "source": [
    "#### 3. References \n",
    "    \n",
    "1. http://www.robots.ox.ac.uk/~vgg/research/very_deep/\n",
    "2. https://github.com/lazyprogrammer/machine_learning_examples\n",
    "3. https://machinelearningmastery.com/use-pre-trained-vgg-model-classify-objects-photographs/"
   ]
  },
  {
   "cell_type": "markdown",
   "metadata": {},
   "source": [
    "#### 4. Summary\n",
    "\n",
    "- Initial assessment shows that the built-in VGG model is unable to recognize any of the three objects (i.e., spoon, fork, and floss).\n",
    "- This justifies the need to re-train the model using custom datasets.\n",
    "- Using the pretrained model, an accuracy of 100% is achieved.\n",
    "- Having trained the model with custom datasets, it is able to accurately predict the three objects from images randomly taken from the internet.\n",
    "- The model is now ready to use."
   ]
  }
 ],
 "metadata": {
  "kernelspec": {
   "display_name": "Python 3",
   "language": "python",
   "name": "python3"
  },
  "language_info": {
   "codemirror_mode": {
    "name": "ipython",
    "version": 3
   },
   "file_extension": ".py",
   "mimetype": "text/x-python",
   "name": "python",
   "nbconvert_exporter": "python",
   "pygments_lexer": "ipython3",
   "version": "3.5.4"
  },
  "widgets": {
   "state": {},
   "version": "1.1.2"
  }
 },
 "nbformat": 4,
 "nbformat_minor": 1
}
