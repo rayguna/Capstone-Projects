{
 "cells": [
  {
   "cell_type": "markdown",
   "metadata": {},
   "source": [
    "### Apendix C. NN and CNN Models\n",
    "\n",
    "Here, the image datasets generated in **Appendix A** (Data/combined.csv) are fitted to a simple neural network (NN) model, as well as to a more sophisticated convolutional neural network (CNN) model.\n"
   ]
  },
  {
   "cell_type": "markdown",
   "metadata": {},
   "source": [
    "**Table of Contents**\n",
    "\n",
    "1. Load, Inspect, and Prepare Data    \n",
    "2. Build a baseline NN model  \n",
    "3. Build a CNN model  \n",
    "4. Validate model using an unlabeled image  \n",
    "5. References  \n",
    "6. Summary and Next Steps  \n"
   ]
  },
  {
   "cell_type": "markdown",
   "metadata": {},
   "source": [
    "***"
   ]
  },
  {
   "cell_type": "markdown",
   "metadata": {},
   "source": [
    "#### 1. Load, Inspect, and Prepare Data  \n",
    "\n",
    "#### 1.1. Load and Inspect Data"
   ]
  },
  {
   "cell_type": "code",
   "execution_count": 1,
   "metadata": {
    "scrolled": true
   },
   "outputs": [
    {
     "data": {
      "text/plain": [
       "<Figure size 640x480 with 1 Axes>"
      ]
     },
     "metadata": {},
     "output_type": "display_data"
    }
   ],
   "source": [
    "import pandas as pd\n",
    "import glob\n",
    "import numpy as np\n",
    "import matplotlib.pyplot as plt\n",
    "\n",
    "#load data\n",
    "df=pd.read_csv(\"Data/combined.csv\") \n",
    "\n",
    "#reshape data\n",
    "#retrieve first row, first 3818 columns and turn into a numpy array\n",
    "img_data=np.array(df.iloc[:,:3818], dtype='float64') #make sure to specify data type as float when converting to an np array\n",
    "#reshape data\n",
    "img_data_2d=img_data[0].reshape(46,83)\n",
    "\n",
    "#visualize any one of the data \n",
    "plt.imshow(img_data_2d, cmap='gray')\n",
    "plt.axis('off')\n",
    "plt.show()"
   ]
  },
  {
   "cell_type": "markdown",
   "metadata": {},
   "source": [
    "#### 1.2. Prepare Data"
   ]
  },
  {
   "cell_type": "code",
   "execution_count": 2,
   "metadata": {},
   "outputs": [
    {
     "name": "stdout",
     "output_type": "stream",
     "text": [
      "(285, 3818)\n",
      "(51, 3818)\n",
      "(285,)\n",
      "(51,)\n"
     ]
    }
   ],
   "source": [
    "#split data into train and test sets\n",
    "#https://machinelearningmastery.com/evaluate-performance-deep-learning-models-keras/\n",
    "\n",
    "from sklearn.model_selection import train_test_split\n",
    "\n",
    "X=df.iloc[:,:3818]\n",
    "Y=df.iloc[:,3820]\n",
    "\n",
    "X_train, X_test, y_train, y_test = train_test_split(X, Y, test_size=0.15, random_state=123)\n",
    "#y_test #check\n",
    "\n",
    "#check dimensions\n",
    "print(X_train.shape)\n",
    "print(X_test.shape)\n",
    "print(y_train.shape)\n",
    "print(y_test.shape)"
   ]
  },
  {
   "cell_type": "code",
   "execution_count": 3,
   "metadata": {
    "collapsed": true
   },
   "outputs": [],
   "source": [
    "#treat data types\n",
    "new_X_train = X_train.astype('float64')\n",
    "new_X_test = X_test.astype('float64')\n",
    "\n",
    "new_X_train /= 255\n",
    "new_X_test /= 255"
   ]
  },
  {
   "cell_type": "code",
   "execution_count": 4,
   "metadata": {},
   "outputs": [
    {
     "name": "stdout",
     "output_type": "stream",
     "text": [
      "(285, 3)\n",
      "(51, 3)\n"
     ]
    }
   ],
   "source": [
    "#transform labels to labelBinarizer\n",
    "#https://datascience.stackexchange.com/questions/17516/how-to-deal-with-string-labels-in-multi-class-classification-with-keras\n",
    "from sklearn.preprocessing import LabelBinarizer\n",
    "encoder = LabelBinarizer()\n",
    "transformed_label = encoder.fit_transform([\"spoon\", \"fork\", \"floss\"])\n",
    "\n",
    "#print(transformed_label) #check\n",
    "\n",
    "#apply object to train and test datasets\n",
    "new_Y_train=encoder.transform(y_train) \n",
    "new_Y_test=encoder.transform(y_test) \n",
    "\n",
    "#check dimensions\n",
    "print(new_Y_train.shape)\n",
    "print(new_Y_test.shape)"
   ]
  },
  {
   "cell_type": "code",
   "execution_count": 5,
   "metadata": {},
   "outputs": [
    {
     "name": "stderr",
     "output_type": "stream",
     "text": [
      "C:\\Anaconda2\\envs\\py36\\lib\\site-packages\\h5py\\__init__.py:36: FutureWarning: Conversion of the second argument of issubdtype from `float` to `np.floating` is deprecated. In future, it will be treated as `np.float64 == np.dtype(float).type`.\n",
      "  from ._conv import register_converters as _register_converters\n"
     ]
    }
   ],
   "source": [
    "#set seed for reproducibility\n",
    "#https://machinelearningmastery.com/reproducible-results-neural-networks-keras/\n",
    "\n",
    "from numpy.random import seed\n",
    "seed(1)\n",
    "from tensorflow import set_random_seed\n",
    "set_random_seed(2)"
   ]
  },
  {
   "cell_type": "markdown",
   "metadata": {},
   "source": [
    "#### 2. Build a baseline NN model"
   ]
  },
  {
   "cell_type": "code",
   "execution_count": 6,
   "metadata": {},
   "outputs": [
    {
     "name": "stderr",
     "output_type": "stream",
     "text": [
      "Using TensorFlow backend.\n"
     ]
    }
   ],
   "source": [
    "#dynamically set tensorflow backend\n",
    "#https://stackoverflow.com/questions/49121112/how-do-i-set-the-keras-backend-in-python-dynamically-when-loaded-using-superviso\n",
    "import os\n",
    "os.environ['KERAS_BACKEND'] = 'tensorflow'\n",
    "from keras import backend as K\n",
    "\n",
    "from keras.models import Sequential\n",
    "from keras.utils import np_utils\n",
    "from keras.layers import Dense\n",
    "\n",
    "\n",
    "# define baseline model\n",
    "def baseline_model(num_pixels,num_classes):\n",
    "    # create model\n",
    "    model = Sequential()\n",
    "    model.add(Dense(num_pixels, input_dim=num_pixels, kernel_initializer='normal',\n",
    "    activation='relu'))\n",
    "    model.add(Dense(num_classes, kernel_initializer='normal', activation='softmax'))\n",
    "    # Compile model\n",
    "    model.compile(loss='categorical_crossentropy', optimizer='adam', metrics=['accuracy'])\n",
    "    return model\n",
    "\n",
    "# build the model\n",
    "num_pixels=3818\n",
    "num_classes=3\n",
    "model_nn = baseline_model(num_pixels,num_classes)"
   ]
  },
  {
   "cell_type": "code",
   "execution_count": 7,
   "metadata": {},
   "outputs": [
    {
     "name": "stdout",
     "output_type": "stream",
     "text": [
      "Train on 285 samples, validate on 51 samples\n",
      "Epoch 1/20\n",
      "285/285 [==============================] - 3s 10ms/step - loss: 2.1140 - acc: 0.4140 - val_loss: 2.4023 - val_acc: 0.5294\n",
      "\n",
      "Epoch 00001: val_acc improved from -inf to 0.52941, saving model to Models/nn_weights-improvement-01-0.53.hdf5\n",
      "Epoch 2/20\n",
      "285/285 [==============================] - 2s 7ms/step - loss: 2.0127 - acc: 0.7018 - val_loss: 2.2279 - val_acc: 0.7647\n",
      "\n",
      "Epoch 00002: val_acc improved from 0.52941 to 0.76471, saving model to Models/nn_weights-improvement-02-0.76.hdf5\n",
      "Epoch 3/20\n",
      "285/285 [==============================] - 2s 7ms/step - loss: 1.8612 - acc: 0.8105 - val_loss: 2.0565 - val_acc: 0.8235\n",
      "\n",
      "Epoch 00003: val_acc improved from 0.76471 to 0.82353, saving model to Models/nn_weights-improvement-03-0.82.hdf5\n",
      "Epoch 4/20\n",
      "285/285 [==============================] - 2s 7ms/step - loss: 1.7010 - acc: 0.8632 - val_loss: 1.9242 - val_acc: 0.8627\n",
      "\n",
      "Epoch 00004: val_acc improved from 0.82353 to 0.86275, saving model to Models/nn_weights-improvement-04-0.86.hdf5\n",
      "Epoch 5/20\n",
      "285/285 [==============================] - 2s 7ms/step - loss: 1.5734 - acc: 0.9053 - val_loss: 1.7986 - val_acc: 0.9020\n",
      "\n",
      "Epoch 00005: val_acc improved from 0.86275 to 0.90196, saving model to Models/nn_weights-improvement-05-0.90.hdf5\n",
      "Epoch 6/20\n",
      "285/285 [==============================] - 2s 7ms/step - loss: 1.4787 - acc: 0.9193 - val_loss: 1.7183 - val_acc: 0.9020\n",
      "\n",
      "Epoch 00006: val_acc did not improve\n",
      "Epoch 7/20\n",
      "285/285 [==============================] - 2s 7ms/step - loss: 1.4148 - acc: 0.9193 - val_loss: 1.6688 - val_acc: 0.9020\n",
      "\n",
      "Epoch 00007: val_acc did not improve\n",
      "Epoch 8/20\n",
      "285/285 [==============================] - 2s 7ms/step - loss: 1.3744 - acc: 0.9193 - val_loss: 1.6398 - val_acc: 0.9020\n",
      "\n",
      "Epoch 00008: val_acc did not improve\n",
      "Epoch 9/20\n",
      "285/285 [==============================] - 2s 7ms/step - loss: 1.3496 - acc: 0.9193 - val_loss: 1.6211 - val_acc: 0.9020\n",
      "\n",
      "Epoch 00009: val_acc did not improve\n",
      "Epoch 10/20\n",
      "285/285 [==============================] - 2s 7ms/step - loss: 1.3355 - acc: 0.9193 - val_loss: 1.6096 - val_acc: 0.9020\n",
      "\n",
      "Epoch 00010: val_acc did not improve\n",
      "Epoch 11/20\n",
      "285/285 [==============================] - 2s 7ms/step - loss: 1.3264 - acc: 0.9193 - val_loss: 1.6027 - val_acc: 0.9020\n",
      "\n",
      "Epoch 00011: val_acc did not improve\n",
      "Epoch 12/20\n",
      "285/285 [==============================] - 2s 7ms/step - loss: 1.3207 - acc: 0.9193 - val_loss: 1.5981 - val_acc: 0.9020\n",
      "\n",
      "Epoch 00012: val_acc did not improve\n",
      "Epoch 13/20\n",
      "285/285 [==============================] - 2s 7ms/step - loss: 1.3168 - acc: 0.9193 - val_loss: 1.5950 - val_acc: 0.9020\n",
      "\n",
      "Epoch 00013: val_acc did not improve\n",
      "Epoch 14/20\n",
      "285/285 [==============================] - 2s 7ms/step - loss: 1.3141 - acc: 0.9193 - val_loss: 1.5927 - val_acc: 0.9020\n",
      "\n",
      "Epoch 00014: val_acc did not improve\n",
      "Epoch 15/20\n",
      "285/285 [==============================] - 2s 7ms/step - loss: 1.3121 - acc: 0.9193 - val_loss: 1.5910 - val_acc: 0.9020\n",
      "\n",
      "Epoch 00015: val_acc did not improve\n",
      "Epoch 16/20\n",
      "285/285 [==============================] - 2s 7ms/step - loss: 1.3106 - acc: 0.9193 - val_loss: 1.5896 - val_acc: 0.9020\n",
      "\n",
      "Epoch 00016: val_acc did not improve\n",
      "Epoch 17/20\n",
      "285/285 [==============================] - 2s 7ms/step - loss: 1.3095 - acc: 0.9193 - val_loss: 1.5886 - val_acc: 0.9020\n",
      "\n",
      "Epoch 00017: val_acc did not improve\n",
      "Epoch 18/20\n",
      "285/285 [==============================] - 2s 7ms/step - loss: 1.3085 - acc: 0.9193 - val_loss: 1.5877 - val_acc: 0.9020\n",
      "\n",
      "Epoch 00018: val_acc did not improve\n",
      "Epoch 19/20\n",
      "285/285 [==============================] - 2s 7ms/step - loss: 1.3078 - acc: 0.9193 - val_loss: 1.5870 - val_acc: 0.9020\n",
      "\n",
      "Epoch 00019: val_acc did not improve\n",
      "Epoch 20/20\n",
      "285/285 [==============================] - 2s 7ms/step - loss: 1.3071 - acc: 0.9193 - val_loss: 1.5864 - val_acc: 0.9020\n",
      "\n",
      "Epoch 00020: val_acc did not improve\n",
      "dict_keys(['loss', 'val_acc', 'acc', 'val_loss'])\n"
     ]
    },
    {
     "data": {
      "image/png": "[encoded data removed]",
      "text/plain": [
       "<Figure size 432x288 with 1 Axes>"
      ]
     },
     "metadata": {},
     "output_type": "display_data"
    },
    {
     "data": {
      "image/png": "[encoded data removed]",
      "text/plain": [
       "<Figure size 432x288 with 1 Axes>"
      ]
     },
     "metadata": {},
     "output_type": "display_data"
    }
   ],
   "source": [
    "# Checkpoint the weights when validation accuracy improves\n",
    "from keras.callbacks import ModelCheckpoint\n",
    "\n",
    "# checkpoint\n",
    "filepath=\"Models/nn_weights-improvement-{epoch:02d}-{val_acc:.2f}.hdf5\"\n",
    "checkpoint_nn = ModelCheckpoint(filepath, monitor='val_acc', verbose=1, save_best_only=True,\n",
    "mode='max')\n",
    "callbacks_list = [checkpoint_nn]\n",
    "\n",
    "\n",
    "# Fit the model\n",
    "history_nn=model_nn.fit(new_X_train, new_Y_train, validation_data=(new_X_test, new_Y_test), \n",
    "                          callbacks=callbacks_list, epochs=20, batch_size=50)\n",
    "\n",
    "# list all data in history\n",
    "#https://machinelearningmastery.com/display-deep-learning-model-training-history-in-keras/\n",
    "print(history_nn.history.keys())\n",
    "\n",
    "\n",
    "# summarize history for accuracy\n",
    "plt.plot(history_nn.history['acc'])\n",
    "plt.plot(history_nn.history['val_acc'])\n",
    "plt.title('model accuracy')\n",
    "plt.ylabel('accuracy')\n",
    "plt.xlabel('epoch')\n",
    "plt.legend(['train', 'test'], loc='upper left')\n",
    "plt.show()\n",
    "# summarize history for loss\n",
    "plt.plot(history_nn.history['loss'])\n",
    "plt.plot(history_nn.history['val_loss'])\n",
    "plt.title('model loss')\n",
    "plt.ylabel('loss')\n",
    "plt.xlabel('epoch')\n",
    "plt.legend(['train', 'test'], loc='upper left')\n",
    "plt.show()\n"
   ]
  },
  {
   "cell_type": "markdown",
   "metadata": {},
   "source": [
    "#### 3. Build a CNN model\n"
   ]
  },
  {
   "cell_type": "code",
   "execution_count": 8,
   "metadata": {},
   "outputs": [
    {
     "name": "stdout",
     "output_type": "stream",
     "text": [
      "(285, 46, 83, 1)\n",
      "(51, 46, 83, 1)\n"
     ]
    }
   ],
   "source": [
    "#reshape data for cnn model\n",
    "new_X_train=np.array(new_X_train).reshape(new_X_train.shape[0],46,83,1)\n",
    "new_X_test=np.array(new_X_test).reshape(new_X_test.shape[0],46,83,1)\n",
    "\n",
    "#check dimensions\n",
    "print(new_X_train.shape)\n",
    "print(new_X_test.shape)"
   ]
  },
  {
   "cell_type": "code",
   "execution_count": 9,
   "metadata": {
    "collapsed": true
   },
   "outputs": [],
   "source": [
    "#taken from MNIST dataset example of deep learning with python book CNN model-machinelearningmastery\n",
    "# define a simple CNN model\n",
    "from keras.models import Sequential\n",
    "from keras.layers import Dense, Dropout, Flatten\n",
    "from keras.layers.convolutional import Conv2D, MaxPooling2D\n",
    "from keras.optimizers import SGD\n",
    "from keras.constraints import maxnorm\n",
    "\n",
    "\n",
    "def model_cnn(num_classes):\n",
    "    # create model\n",
    "    model = Sequential()\n",
    "    model.add(Conv2D(32, (3, 3), input_shape=(46, 83, 1), activation='relu'))\n",
    "    model.add(MaxPooling2D(pool_size=(2, 2)))\n",
    "    model.add(Dropout(0.2))\n",
    "    model.add(Flatten())\n",
    "    model.add(Dense(128, activation='relu'))\n",
    "    model.add(Dense(num_classes, activation='softmax'))\n",
    "    \n",
    "    # Compile model\n",
    "    model.compile(loss='categorical_crossentropy', optimizer='adam', metrics=['accuracy'])\n",
    "    return model\n",
    "\n",
    "num_classes=3\n",
    "\n",
    "# build the model\n",
    "model_cnn = model_cnn(num_classes)"
   ]
  },
  {
   "cell_type": "code",
   "execution_count": 10,
   "metadata": {
    "scrolled": true
   },
   "outputs": [
    {
     "name": "stdout",
     "output_type": "stream",
     "text": [
      "Train on 285 samples, validate on 51 samples\n",
      "Epoch 1/20\n",
      "285/285 [==============================] - 2s 7ms/step - loss: 1.3439 - acc: 0.3544 - val_loss: 1.2506 - val_acc: 0.2745\n",
      "\n",
      "Epoch 00001: val_acc improved from -inf to 0.27451, saving model to Models/cnn_weights-improvement-01-0.27.hdf5\n",
      "Epoch 2/20\n",
      "285/285 [==============================] - 1s 5ms/step - loss: 1.1096 - acc: 0.4737 - val_loss: 1.1147 - val_acc: 0.4902\n",
      "\n",
      "Epoch 00002: val_acc improved from 0.27451 to 0.49020, saving model to Models/cnn_weights-improvement-02-0.49.hdf5\n",
      "Epoch 3/20\n",
      "285/285 [==============================] - 1s 5ms/step - loss: 1.0669 - acc: 0.5649 - val_loss: 1.0219 - val_acc: 0.5294\n",
      "\n",
      "Epoch 00003: val_acc improved from 0.49020 to 0.52941, saving model to Models/cnn_weights-improvement-03-0.53.hdf5\n",
      "Epoch 4/20\n",
      "285/285 [==============================] - 1s 5ms/step - loss: 0.9694 - acc: 0.6211 - val_loss: 0.9251 - val_acc: 0.7059\n",
      "\n",
      "Epoch 00004: val_acc improved from 0.52941 to 0.70588, saving model to Models/cnn_weights-improvement-04-0.71.hdf5\n",
      "Epoch 5/20\n",
      "285/285 [==============================] - 1s 5ms/step - loss: 0.8831 - acc: 0.7649 - val_loss: 0.8436 - val_acc: 0.7843\n",
      "\n",
      "Epoch 00005: val_acc improved from 0.70588 to 0.78431, saving model to Models/cnn_weights-improvement-05-0.78.hdf5\n",
      "Epoch 6/20\n",
      "285/285 [==============================] - 2s 5ms/step - loss: 0.7886 - acc: 0.8070 - val_loss: 0.7717 - val_acc: 0.8627\n",
      "\n",
      "Epoch 00006: val_acc improved from 0.78431 to 0.86275, saving model to Models/cnn_weights-improvement-06-0.86.hdf5\n",
      "Epoch 7/20\n",
      "285/285 [==============================] - 1s 5ms/step - loss: 0.7200 - acc: 0.8316 - val_loss: 0.6703 - val_acc: 0.8627\n",
      "\n",
      "Epoch 00007: val_acc did not improve\n",
      "Epoch 8/20\n",
      "285/285 [==============================] - 2s 5ms/step - loss: 0.6388 - acc: 0.8526 - val_loss: 0.6082 - val_acc: 0.8627\n",
      "\n",
      "Epoch 00008: val_acc did not improve\n",
      "Epoch 9/20\n",
      "285/285 [==============================] - 1s 5ms/step - loss: 0.5568 - acc: 0.8632 - val_loss: 0.5337 - val_acc: 0.9020\n",
      "\n",
      "Epoch 00009: val_acc improved from 0.86275 to 0.90196, saving model to Models/cnn_weights-improvement-09-0.90.hdf5\n",
      "Epoch 10/20\n",
      "285/285 [==============================] - 1s 5ms/step - loss: 0.4999 - acc: 0.8947 - val_loss: 0.4793 - val_acc: 0.9216\n",
      "\n",
      "Epoch 00010: val_acc improved from 0.90196 to 0.92157, saving model to Models/cnn_weights-improvement-10-0.92.hdf5\n",
      "Epoch 11/20\n",
      "285/285 [==============================] - 1s 5ms/step - loss: 0.4418 - acc: 0.9158 - val_loss: 0.3936 - val_acc: 0.9216\n",
      "\n",
      "Epoch 00011: val_acc did not improve\n",
      "Epoch 12/20\n",
      "285/285 [==============================] - 1s 5ms/step - loss: 0.3540 - acc: 0.9509 - val_loss: 0.3401 - val_acc: 0.9216\n",
      "\n",
      "Epoch 00012: val_acc did not improve\n",
      "Epoch 13/20\n",
      "285/285 [==============================] - 1s 5ms/step - loss: 0.2944 - acc: 0.9579 - val_loss: 0.2940 - val_acc: 0.9412\n",
      "\n",
      "Epoch 00013: val_acc improved from 0.92157 to 0.94118, saving model to Models/cnn_weights-improvement-13-0.94.hdf5\n",
      "Epoch 14/20\n",
      "285/285 [==============================] - 1s 5ms/step - loss: 0.2438 - acc: 0.9895 - val_loss: 0.2426 - val_acc: 0.9608\n",
      "\n",
      "Epoch 00014: val_acc improved from 0.94118 to 0.96078, saving model to Models/cnn_weights-improvement-14-0.96.hdf5\n",
      "Epoch 15/20\n",
      "285/285 [==============================] - 2s 5ms/step - loss: 0.1990 - acc: 0.9930 - val_loss: 0.1993 - val_acc: 0.9608\n",
      "\n",
      "Epoch 00015: val_acc did not improve\n",
      "Epoch 16/20\n",
      "285/285 [==============================] - 1s 5ms/step - loss: 0.1602 - acc: 0.9965 - val_loss: 0.1978 - val_acc: 0.9608\n",
      "\n",
      "Epoch 00016: val_acc did not improve\n",
      "Epoch 17/20\n",
      "285/285 [==============================] - 2s 5ms/step - loss: 0.1294 - acc: 1.0000 - val_loss: 0.1483 - val_acc: 0.9608\n",
      "\n",
      "Epoch 00017: val_acc did not improve\n",
      "Epoch 18/20\n",
      "285/285 [==============================] - 2s 5ms/step - loss: 0.1090 - acc: 1.0000 - val_loss: 0.1505 - val_acc: 0.9608\n",
      "\n",
      "Epoch 00018: val_acc did not improve\n",
      "Epoch 19/20\n",
      "285/285 [==============================] - 1s 5ms/step - loss: 0.0894 - acc: 1.0000 - val_loss: 0.1313 - val_acc: 0.9608\n",
      "\n",
      "Epoch 00019: val_acc did not improve\n",
      "Epoch 20/20\n",
      "285/285 [==============================] - 2s 5ms/step - loss: 0.0762 - acc: 1.0000 - val_loss: 0.1122 - val_acc: 0.9608\n",
      "\n",
      "Epoch 00020: val_acc did not improve\n",
      "dict_keys(['loss', 'val_acc', 'acc', 'val_loss'])\n"
     ]
    },
    {
     "data": {
      "image/png": "[encoded data removed]",
      "text/plain": [
       "<Figure size 432x288 with 1 Axes>"
      ]
     },
     "metadata": {},
     "output_type": "display_data"
    },
    {
     "data": {
      "image/png": "[encoded data removed]",
      "text/plain": [
       "<Figure size 432x288 with 1 Axes>"
      ]
     },
     "metadata": {},
     "output_type": "display_data"
    }
   ],
   "source": [
    "# Checkpoint the weights when validation accuracy improves\n",
    "from keras.callbacks import ModelCheckpoint\n",
    "\n",
    "# checkpoint\n",
    "filepath=\"Models/cnn_weights-improvement-{epoch:02d}-{val_acc:.2f}.hdf5\"\n",
    "checkpoint_cnn = ModelCheckpoint(filepath, monitor='val_acc', verbose=1, save_best_only=True,\n",
    "mode='max')\n",
    "callbacks_list = [checkpoint_cnn]\n",
    "\n",
    "\n",
    "# Fit the model\n",
    "history_cnn=model_cnn.fit(new_X_train, new_Y_train, validation_data=(new_X_test, new_Y_test), \n",
    "                          callbacks=callbacks_list, epochs=20, batch_size=50)\n",
    "\n",
    "# list all data in history\n",
    "#https://machinelearningmastery.com/display-deep-learning-model-training-history-in-keras/\n",
    "print(history_cnn.history.keys())\n",
    "\n",
    "\n",
    "# summarize history for accuracy\n",
    "plt.plot(history_cnn.history['acc'])\n",
    "plt.plot(history_cnn.history['val_acc'])\n",
    "plt.title('model accuracy')\n",
    "plt.ylabel('accuracy')\n",
    "plt.xlabel('epoch')\n",
    "plt.legend(['train', 'test'], loc='upper left')\n",
    "plt.show()\n",
    "# summarize history for loss\n",
    "plt.plot(history_cnn.history['loss'])\n",
    "plt.plot(history_cnn.history['val_loss'])\n",
    "plt.title('model loss')\n",
    "plt.ylabel('loss')\n",
    "plt.xlabel('epoch')\n",
    "plt.legend(['train', 'test'], loc='upper left')\n",
    "plt.show()"
   ]
  },
  {
   "cell_type": "markdown",
   "metadata": {},
   "source": [
    "#### 4. Validate model using an unlabeled image"
   ]
  },
  {
   "cell_type": "code",
   "execution_count": 13,
   "metadata": {},
   "outputs": [
    {
     "data": {
      "image/png": "[encoded data removed]",
      "text/plain": [
       "<Figure size 432x288 with 1 Axes>"
      ]
     },
     "metadata": {},
     "output_type": "display_data"
    }
   ],
   "source": [
    "import cv2\n",
    "\n",
    "img=cv2.imread(\"Images/floss/floss_4.jpg\")\n",
    "img_gray=cv2.cvtColor(img, cv2.COLOR_BGR2GRAY)\n",
    "\n",
    "img_gray=cv2.resize(img_gray,(83,46))\n",
    "\n",
    "img_gray.shape\n",
    "\n",
    "plt.imshow(img_gray, cmap='gray')\n",
    "plt.axis('off')\n",
    "plt.show()\n"
   ]
  },
  {
   "cell_type": "code",
   "execution_count": 17,
   "metadata": {},
   "outputs": [
    {
     "name": "stdout",
     "output_type": "stream",
     "text": [
      "The image is a: floss\n"
     ]
    }
   ],
   "source": [
    "from keras.models import load_model\n",
    "load_model = load_model('Models/cnn_weights-improvement-14-0.96.hdf5')\n",
    "\n",
    "print('The image is a:', encoder.inverse_transform(load_model.predict(img_gray.reshape(1,46,83,1)))[0])"
   ]
  },
  {
   "cell_type": "markdown",
   "metadata": {},
   "source": [
    "#### 5. References\n",
    "\n",
    "1. Jason Brownlee, \"Deep Learning with Python\", Machine Learning Mastery, 2018."
   ]
  },
  {
   "cell_type": "markdown",
   "metadata": {},
   "source": [
    "#### 6. Summary   \n",
    "- Retrieve image data from a csv file.\n",
    "- Feed data into a neural network (NN) model.\n",
    "- The accuracy of the NN model does not exceed 90%.\n",
    "- Reshape and feed data into a more sophisticated CNN model. \n",
    "- The accuracy of CNN model is up to 96%.\n",
    "- Utilize ModelCheckpoint to retain weights when model accuracy improves during training.\n",
    "- Demonstrate implementing the model on an unlabeled image.\n",
    "- In **Appendix D**, an even more sophisticated pretrained model that consists of many more layers than the above CNN model is discussed."
   ]
  }
 ],
 "metadata": {
  "kernelspec": {
   "display_name": "Python 3",
   "language": "python",
   "name": "python3"
  },
  "language_info": {
   "codemirror_mode": {
    "name": "ipython",
    "version": 3
   },
   "file_extension": ".py",
   "mimetype": "text/x-python",
   "name": "python",
   "nbconvert_exporter": "python",
   "pygments_lexer": "ipython3",
   "version": "3.5.4"
  },
  "widgets": {
   "state": {},
   "version": "1.1.2"
  }
 },
 "nbformat": 4,
 "nbformat_minor": 1
}
